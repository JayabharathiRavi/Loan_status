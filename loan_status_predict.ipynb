{
  "cells": [
    {
      "cell_type": "markdown",
      "metadata": {
        "id": "view-in-github",
        "colab_type": "text"
      },
      "source": [
        "<a href=\"https://colab.research.google.com/github/JayabharathiRavi/Loan_status/blob/main/loan_status_predict.ipynb\" target=\"_parent\"><img src=\"https://colab.research.google.com/assets/colab-badge.svg\" alt=\"Open In Colab\"/></a>"
      ]
    },
    {
      "cell_type": "code",
      "execution_count": null,
      "metadata": {
        "id": "fjXN89fHWEEr"
      },
      "outputs": [],
      "source": [
        ""
      ],
      "id": "fjXN89fHWEEr"
    },
    {
      "cell_type": "markdown",
      "metadata": {
        "id": "KxoGsOyEUrAJ"
      },
      "source": [
        "## **Classification model:**\n",
        "\n",
        "***a. Loan Status Prediction:***\n",
        "\n",
        "i. This is a Property Loan Status Prediction dataset, we have the data of\n",
        "applicants who had previously applied for the loan based on the property and\n",
        "applicant-based metrics.\n",
        "\n",
        "ii. The bank will decide whether to give a loan to the applicant based on some\n",
        "\n",
        "factors such as Applicant Income, Loan Amount, previous Credit History, Co-\n",
        "applicant Income, etc.\n",
        "\n",
        "iii. The objective is to build a Machine Learning Model to predict the loan to be\n",
        "approved or to be rejected for an applicant.\n",
        "iv. You are free to use any classification.\n",
        "\n",
        "    Here, i took Logistic Regression to build a model"
      ],
      "id": "KxoGsOyEUrAJ"
    },
    {
      "cell_type": "code",
      "execution_count": 42,
      "metadata": {
        "id": "a6f186ba"
      },
      "outputs": [],
      "source": [
        "import pandas as pd\n",
        "import numpy as np\n",
        "import matplotlib.pyplot as plt\n",
        "import seaborn as sns\n",
        "\n",
        "from sklearn.model_selection import train_test_split\n",
        "from sklearn.linear_model import LogisticRegression\n",
        "from sklearn import metrics\n",
        "\n",
        "from sklearn.metrics import plot_roc_curve, roc_curve, roc_auc_score, confusion_matrix, f1_score\n"
      ],
      "id": "a6f186ba"
    },
    {
      "cell_type": "code",
      "execution_count": 96,
      "metadata": {
        "id": "33619cdf"
      },
      "outputs": [],
      "source": [
        "x_train=pd.read_csv(\"loan_train.csv\")\n",
        "x_test=pd.read_csv('loan_test.csv')"
      ],
      "id": "33619cdf"
    },
    {
      "cell_type": "code",
      "execution_count": 45,
      "metadata": {
        "id": "086a3bea",
        "outputId": "285d302a-9613-489e-bd62-3523e03a22e9",
        "colab": {
          "base_uri": "https://localhost:8080/",
          "height": 287
        }
      },
      "outputs": [
        {
          "output_type": "execute_result",
          "data": {
            "text/plain": [
              "    Loan_ID Gender Married Dependents     Education Self_Employed  \\\n",
              "0  LP001002   Male      No          0      Graduate            No   \n",
              "1  LP001003   Male     Yes          1      Graduate            No   \n",
              "2  LP001005   Male     Yes          0      Graduate           Yes   \n",
              "3  LP001006   Male     Yes          0  Not Graduate            No   \n",
              "4  LP001008   Male      No          0      Graduate            No   \n",
              "\n",
              "   ApplicantIncome  CoapplicantIncome  LoanAmount  Loan_Amount_Term  \\\n",
              "0             5849                0.0         NaN             360.0   \n",
              "1             4583             1508.0       128.0             360.0   \n",
              "2             3000                0.0        66.0             360.0   \n",
              "3             2583             2358.0       120.0             360.0   \n",
              "4             6000                0.0       141.0             360.0   \n",
              "\n",
              "   Credit_History Property_Area Loan_Status  \n",
              "0             1.0         Urban           Y  \n",
              "1             1.0         Rural           N  \n",
              "2             1.0         Urban           Y  \n",
              "3             1.0         Urban           Y  \n",
              "4             1.0         Urban           Y  "
            ],
            "text/html": [
              "\n",
              "  <div id=\"df-05dcb586-8567-4886-a091-3fd3bd5ce35b\">\n",
              "    <div class=\"colab-df-container\">\n",
              "      <div>\n",
              "<style scoped>\n",
              "    .dataframe tbody tr th:only-of-type {\n",
              "        vertical-align: middle;\n",
              "    }\n",
              "\n",
              "    .dataframe tbody tr th {\n",
              "        vertical-align: top;\n",
              "    }\n",
              "\n",
              "    .dataframe thead th {\n",
              "        text-align: right;\n",
              "    }\n",
              "</style>\n",
              "<table border=\"1\" class=\"dataframe\">\n",
              "  <thead>\n",
              "    <tr style=\"text-align: right;\">\n",
              "      <th></th>\n",
              "      <th>Loan_ID</th>\n",
              "      <th>Gender</th>\n",
              "      <th>Married</th>\n",
              "      <th>Dependents</th>\n",
              "      <th>Education</th>\n",
              "      <th>Self_Employed</th>\n",
              "      <th>ApplicantIncome</th>\n",
              "      <th>CoapplicantIncome</th>\n",
              "      <th>LoanAmount</th>\n",
              "      <th>Loan_Amount_Term</th>\n",
              "      <th>Credit_History</th>\n",
              "      <th>Property_Area</th>\n",
              "      <th>Loan_Status</th>\n",
              "    </tr>\n",
              "  </thead>\n",
              "  <tbody>\n",
              "    <tr>\n",
              "      <th>0</th>\n",
              "      <td>LP001002</td>\n",
              "      <td>Male</td>\n",
              "      <td>No</td>\n",
              "      <td>0</td>\n",
              "      <td>Graduate</td>\n",
              "      <td>No</td>\n",
              "      <td>5849</td>\n",
              "      <td>0.0</td>\n",
              "      <td>NaN</td>\n",
              "      <td>360.0</td>\n",
              "      <td>1.0</td>\n",
              "      <td>Urban</td>\n",
              "      <td>Y</td>\n",
              "    </tr>\n",
              "    <tr>\n",
              "      <th>1</th>\n",
              "      <td>LP001003</td>\n",
              "      <td>Male</td>\n",
              "      <td>Yes</td>\n",
              "      <td>1</td>\n",
              "      <td>Graduate</td>\n",
              "      <td>No</td>\n",
              "      <td>4583</td>\n",
              "      <td>1508.0</td>\n",
              "      <td>128.0</td>\n",
              "      <td>360.0</td>\n",
              "      <td>1.0</td>\n",
              "      <td>Rural</td>\n",
              "      <td>N</td>\n",
              "    </tr>\n",
              "    <tr>\n",
              "      <th>2</th>\n",
              "      <td>LP001005</td>\n",
              "      <td>Male</td>\n",
              "      <td>Yes</td>\n",
              "      <td>0</td>\n",
              "      <td>Graduate</td>\n",
              "      <td>Yes</td>\n",
              "      <td>3000</td>\n",
              "      <td>0.0</td>\n",
              "      <td>66.0</td>\n",
              "      <td>360.0</td>\n",
              "      <td>1.0</td>\n",
              "      <td>Urban</td>\n",
              "      <td>Y</td>\n",
              "    </tr>\n",
              "    <tr>\n",
              "      <th>3</th>\n",
              "      <td>LP001006</td>\n",
              "      <td>Male</td>\n",
              "      <td>Yes</td>\n",
              "      <td>0</td>\n",
              "      <td>Not Graduate</td>\n",
              "      <td>No</td>\n",
              "      <td>2583</td>\n",
              "      <td>2358.0</td>\n",
              "      <td>120.0</td>\n",
              "      <td>360.0</td>\n",
              "      <td>1.0</td>\n",
              "      <td>Urban</td>\n",
              "      <td>Y</td>\n",
              "    </tr>\n",
              "    <tr>\n",
              "      <th>4</th>\n",
              "      <td>LP001008</td>\n",
              "      <td>Male</td>\n",
              "      <td>No</td>\n",
              "      <td>0</td>\n",
              "      <td>Graduate</td>\n",
              "      <td>No</td>\n",
              "      <td>6000</td>\n",
              "      <td>0.0</td>\n",
              "      <td>141.0</td>\n",
              "      <td>360.0</td>\n",
              "      <td>1.0</td>\n",
              "      <td>Urban</td>\n",
              "      <td>Y</td>\n",
              "    </tr>\n",
              "  </tbody>\n",
              "</table>\n",
              "</div>\n",
              "      <button class=\"colab-df-convert\" onclick=\"convertToInteractive('df-05dcb586-8567-4886-a091-3fd3bd5ce35b')\"\n",
              "              title=\"Convert this dataframe to an interactive table.\"\n",
              "              style=\"display:none;\">\n",
              "        \n",
              "  <svg xmlns=\"http://www.w3.org/2000/svg\" height=\"24px\"viewBox=\"0 0 24 24\"\n",
              "       width=\"24px\">\n",
              "    <path d=\"M0 0h24v24H0V0z\" fill=\"none\"/>\n",
              "    <path d=\"M18.56 5.44l.94 2.06.94-2.06 2.06-.94-2.06-.94-.94-2.06-.94 2.06-2.06.94zm-11 1L8.5 8.5l.94-2.06 2.06-.94-2.06-.94L8.5 2.5l-.94 2.06-2.06.94zm10 10l.94 2.06.94-2.06 2.06-.94-2.06-.94-.94-2.06-.94 2.06-2.06.94z\"/><path d=\"M17.41 7.96l-1.37-1.37c-.4-.4-.92-.59-1.43-.59-.52 0-1.04.2-1.43.59L10.3 9.45l-7.72 7.72c-.78.78-.78 2.05 0 2.83L4 21.41c.39.39.9.59 1.41.59.51 0 1.02-.2 1.41-.59l7.78-7.78 2.81-2.81c.8-.78.8-2.07 0-2.86zM5.41 20L4 18.59l7.72-7.72 1.47 1.35L5.41 20z\"/>\n",
              "  </svg>\n",
              "      </button>\n",
              "      \n",
              "  <style>\n",
              "    .colab-df-container {\n",
              "      display:flex;\n",
              "      flex-wrap:wrap;\n",
              "      gap: 12px;\n",
              "    }\n",
              "\n",
              "    .colab-df-convert {\n",
              "      background-color: #E8F0FE;\n",
              "      border: none;\n",
              "      border-radius: 50%;\n",
              "      cursor: pointer;\n",
              "      display: none;\n",
              "      fill: #1967D2;\n",
              "      height: 32px;\n",
              "      padding: 0 0 0 0;\n",
              "      width: 32px;\n",
              "    }\n",
              "\n",
              "    .colab-df-convert:hover {\n",
              "      background-color: #E2EBFA;\n",
              "      box-shadow: 0px 1px 2px rgba(60, 64, 67, 0.3), 0px 1px 3px 1px rgba(60, 64, 67, 0.15);\n",
              "      fill: #174EA6;\n",
              "    }\n",
              "\n",
              "    [theme=dark] .colab-df-convert {\n",
              "      background-color: #3B4455;\n",
              "      fill: #D2E3FC;\n",
              "    }\n",
              "\n",
              "    [theme=dark] .colab-df-convert:hover {\n",
              "      background-color: #434B5C;\n",
              "      box-shadow: 0px 1px 3px 1px rgba(0, 0, 0, 0.15);\n",
              "      filter: drop-shadow(0px 1px 2px rgba(0, 0, 0, 0.3));\n",
              "      fill: #FFFFFF;\n",
              "    }\n",
              "  </style>\n",
              "\n",
              "      <script>\n",
              "        const buttonEl =\n",
              "          document.querySelector('#df-05dcb586-8567-4886-a091-3fd3bd5ce35b button.colab-df-convert');\n",
              "        buttonEl.style.display =\n",
              "          google.colab.kernel.accessAllowed ? 'block' : 'none';\n",
              "\n",
              "        async function convertToInteractive(key) {\n",
              "          const element = document.querySelector('#df-05dcb586-8567-4886-a091-3fd3bd5ce35b');\n",
              "          const dataTable =\n",
              "            await google.colab.kernel.invokeFunction('convertToInteractive',\n",
              "                                                     [key], {});\n",
              "          if (!dataTable) return;\n",
              "\n",
              "          const docLinkHtml = 'Like what you see? Visit the ' +\n",
              "            '<a target=\"_blank\" href=https://colab.research.google.com/notebooks/data_table.ipynb>data table notebook</a>'\n",
              "            + ' to learn more about interactive tables.';\n",
              "          element.innerHTML = '';\n",
              "          dataTable['output_type'] = 'display_data';\n",
              "          await google.colab.output.renderOutput(dataTable, element);\n",
              "          const docLink = document.createElement('div');\n",
              "          docLink.innerHTML = docLinkHtml;\n",
              "          element.appendChild(docLink);\n",
              "        }\n",
              "      </script>\n",
              "    </div>\n",
              "  </div>\n",
              "  "
            ]
          },
          "metadata": {},
          "execution_count": 45
        }
      ],
      "source": [
        "x_train.head()"
      ],
      "id": "086a3bea"
    },
    {
      "cell_type": "code",
      "execution_count": 46,
      "metadata": {
        "id": "dba7060a",
        "outputId": "da3e026f-f671-4712-890c-55ddf1c959b1",
        "colab": {
          "base_uri": "https://localhost:8080/",
          "height": 287
        }
      },
      "outputs": [
        {
          "output_type": "execute_result",
          "data": {
            "text/plain": [
              "    Loan_ID Gender Married Dependents     Education Self_Employed  \\\n",
              "0  LP001015   Male     Yes          0      Graduate            No   \n",
              "1  LP001022   Male     Yes          1      Graduate            No   \n",
              "2  LP001031   Male     Yes          2      Graduate            No   \n",
              "3  LP001035   Male     Yes          2      Graduate            No   \n",
              "4  LP001051   Male      No          0  Not Graduate            No   \n",
              "\n",
              "   ApplicantIncome  CoapplicantIncome  LoanAmount  Loan_Amount_Term  \\\n",
              "0             5720                  0       110.0             360.0   \n",
              "1             3076               1500       126.0             360.0   \n",
              "2             5000               1800       208.0             360.0   \n",
              "3             2340               2546       100.0             360.0   \n",
              "4             3276                  0        78.0             360.0   \n",
              "\n",
              "   Credit_History Property_Area  \n",
              "0             1.0         Urban  \n",
              "1             1.0         Urban  \n",
              "2             1.0         Urban  \n",
              "3             NaN         Urban  \n",
              "4             1.0         Urban  "
            ],
            "text/html": [
              "\n",
              "  <div id=\"df-19a6cc6f-2c80-49be-b9b0-243d2d0f0b1b\">\n",
              "    <div class=\"colab-df-container\">\n",
              "      <div>\n",
              "<style scoped>\n",
              "    .dataframe tbody tr th:only-of-type {\n",
              "        vertical-align: middle;\n",
              "    }\n",
              "\n",
              "    .dataframe tbody tr th {\n",
              "        vertical-align: top;\n",
              "    }\n",
              "\n",
              "    .dataframe thead th {\n",
              "        text-align: right;\n",
              "    }\n",
              "</style>\n",
              "<table border=\"1\" class=\"dataframe\">\n",
              "  <thead>\n",
              "    <tr style=\"text-align: right;\">\n",
              "      <th></th>\n",
              "      <th>Loan_ID</th>\n",
              "      <th>Gender</th>\n",
              "      <th>Married</th>\n",
              "      <th>Dependents</th>\n",
              "      <th>Education</th>\n",
              "      <th>Self_Employed</th>\n",
              "      <th>ApplicantIncome</th>\n",
              "      <th>CoapplicantIncome</th>\n",
              "      <th>LoanAmount</th>\n",
              "      <th>Loan_Amount_Term</th>\n",
              "      <th>Credit_History</th>\n",
              "      <th>Property_Area</th>\n",
              "    </tr>\n",
              "  </thead>\n",
              "  <tbody>\n",
              "    <tr>\n",
              "      <th>0</th>\n",
              "      <td>LP001015</td>\n",
              "      <td>Male</td>\n",
              "      <td>Yes</td>\n",
              "      <td>0</td>\n",
              "      <td>Graduate</td>\n",
              "      <td>No</td>\n",
              "      <td>5720</td>\n",
              "      <td>0</td>\n",
              "      <td>110.0</td>\n",
              "      <td>360.0</td>\n",
              "      <td>1.0</td>\n",
              "      <td>Urban</td>\n",
              "    </tr>\n",
              "    <tr>\n",
              "      <th>1</th>\n",
              "      <td>LP001022</td>\n",
              "      <td>Male</td>\n",
              "      <td>Yes</td>\n",
              "      <td>1</td>\n",
              "      <td>Graduate</td>\n",
              "      <td>No</td>\n",
              "      <td>3076</td>\n",
              "      <td>1500</td>\n",
              "      <td>126.0</td>\n",
              "      <td>360.0</td>\n",
              "      <td>1.0</td>\n",
              "      <td>Urban</td>\n",
              "    </tr>\n",
              "    <tr>\n",
              "      <th>2</th>\n",
              "      <td>LP001031</td>\n",
              "      <td>Male</td>\n",
              "      <td>Yes</td>\n",
              "      <td>2</td>\n",
              "      <td>Graduate</td>\n",
              "      <td>No</td>\n",
              "      <td>5000</td>\n",
              "      <td>1800</td>\n",
              "      <td>208.0</td>\n",
              "      <td>360.0</td>\n",
              "      <td>1.0</td>\n",
              "      <td>Urban</td>\n",
              "    </tr>\n",
              "    <tr>\n",
              "      <th>3</th>\n",
              "      <td>LP001035</td>\n",
              "      <td>Male</td>\n",
              "      <td>Yes</td>\n",
              "      <td>2</td>\n",
              "      <td>Graduate</td>\n",
              "      <td>No</td>\n",
              "      <td>2340</td>\n",
              "      <td>2546</td>\n",
              "      <td>100.0</td>\n",
              "      <td>360.0</td>\n",
              "      <td>NaN</td>\n",
              "      <td>Urban</td>\n",
              "    </tr>\n",
              "    <tr>\n",
              "      <th>4</th>\n",
              "      <td>LP001051</td>\n",
              "      <td>Male</td>\n",
              "      <td>No</td>\n",
              "      <td>0</td>\n",
              "      <td>Not Graduate</td>\n",
              "      <td>No</td>\n",
              "      <td>3276</td>\n",
              "      <td>0</td>\n",
              "      <td>78.0</td>\n",
              "      <td>360.0</td>\n",
              "      <td>1.0</td>\n",
              "      <td>Urban</td>\n",
              "    </tr>\n",
              "  </tbody>\n",
              "</table>\n",
              "</div>\n",
              "      <button class=\"colab-df-convert\" onclick=\"convertToInteractive('df-19a6cc6f-2c80-49be-b9b0-243d2d0f0b1b')\"\n",
              "              title=\"Convert this dataframe to an interactive table.\"\n",
              "              style=\"display:none;\">\n",
              "        \n",
              "  <svg xmlns=\"http://www.w3.org/2000/svg\" height=\"24px\"viewBox=\"0 0 24 24\"\n",
              "       width=\"24px\">\n",
              "    <path d=\"M0 0h24v24H0V0z\" fill=\"none\"/>\n",
              "    <path d=\"M18.56 5.44l.94 2.06.94-2.06 2.06-.94-2.06-.94-.94-2.06-.94 2.06-2.06.94zm-11 1L8.5 8.5l.94-2.06 2.06-.94-2.06-.94L8.5 2.5l-.94 2.06-2.06.94zm10 10l.94 2.06.94-2.06 2.06-.94-2.06-.94-.94-2.06-.94 2.06-2.06.94z\"/><path d=\"M17.41 7.96l-1.37-1.37c-.4-.4-.92-.59-1.43-.59-.52 0-1.04.2-1.43.59L10.3 9.45l-7.72 7.72c-.78.78-.78 2.05 0 2.83L4 21.41c.39.39.9.59 1.41.59.51 0 1.02-.2 1.41-.59l7.78-7.78 2.81-2.81c.8-.78.8-2.07 0-2.86zM5.41 20L4 18.59l7.72-7.72 1.47 1.35L5.41 20z\"/>\n",
              "  </svg>\n",
              "      </button>\n",
              "      \n",
              "  <style>\n",
              "    .colab-df-container {\n",
              "      display:flex;\n",
              "      flex-wrap:wrap;\n",
              "      gap: 12px;\n",
              "    }\n",
              "\n",
              "    .colab-df-convert {\n",
              "      background-color: #E8F0FE;\n",
              "      border: none;\n",
              "      border-radius: 50%;\n",
              "      cursor: pointer;\n",
              "      display: none;\n",
              "      fill: #1967D2;\n",
              "      height: 32px;\n",
              "      padding: 0 0 0 0;\n",
              "      width: 32px;\n",
              "    }\n",
              "\n",
              "    .colab-df-convert:hover {\n",
              "      background-color: #E2EBFA;\n",
              "      box-shadow: 0px 1px 2px rgba(60, 64, 67, 0.3), 0px 1px 3px 1px rgba(60, 64, 67, 0.15);\n",
              "      fill: #174EA6;\n",
              "    }\n",
              "\n",
              "    [theme=dark] .colab-df-convert {\n",
              "      background-color: #3B4455;\n",
              "      fill: #D2E3FC;\n",
              "    }\n",
              "\n",
              "    [theme=dark] .colab-df-convert:hover {\n",
              "      background-color: #434B5C;\n",
              "      box-shadow: 0px 1px 3px 1px rgba(0, 0, 0, 0.15);\n",
              "      filter: drop-shadow(0px 1px 2px rgba(0, 0, 0, 0.3));\n",
              "      fill: #FFFFFF;\n",
              "    }\n",
              "  </style>\n",
              "\n",
              "      <script>\n",
              "        const buttonEl =\n",
              "          document.querySelector('#df-19a6cc6f-2c80-49be-b9b0-243d2d0f0b1b button.colab-df-convert');\n",
              "        buttonEl.style.display =\n",
              "          google.colab.kernel.accessAllowed ? 'block' : 'none';\n",
              "\n",
              "        async function convertToInteractive(key) {\n",
              "          const element = document.querySelector('#df-19a6cc6f-2c80-49be-b9b0-243d2d0f0b1b');\n",
              "          const dataTable =\n",
              "            await google.colab.kernel.invokeFunction('convertToInteractive',\n",
              "                                                     [key], {});\n",
              "          if (!dataTable) return;\n",
              "\n",
              "          const docLinkHtml = 'Like what you see? Visit the ' +\n",
              "            '<a target=\"_blank\" href=https://colab.research.google.com/notebooks/data_table.ipynb>data table notebook</a>'\n",
              "            + ' to learn more about interactive tables.';\n",
              "          element.innerHTML = '';\n",
              "          dataTable['output_type'] = 'display_data';\n",
              "          await google.colab.output.renderOutput(dataTable, element);\n",
              "          const docLink = document.createElement('div');\n",
              "          docLink.innerHTML = docLinkHtml;\n",
              "          element.appendChild(docLink);\n",
              "        }\n",
              "      </script>\n",
              "    </div>\n",
              "  </div>\n",
              "  "
            ]
          },
          "metadata": {},
          "execution_count": 46
        }
      ],
      "source": [
        "x_test.head()"
      ],
      "id": "dba7060a"
    },
    {
      "cell_type": "code",
      "execution_count": 47,
      "metadata": {
        "id": "04e4174b",
        "outputId": "7182f149-491e-41eb-ba95-d547f71231c2",
        "colab": {
          "base_uri": "https://localhost:8080/"
        }
      },
      "outputs": [
        {
          "output_type": "execute_result",
          "data": {
            "text/plain": [
              "Index(['Loan_ID', 'Gender', 'Married', 'Dependents', 'Education',\n",
              "       'Self_Employed', 'ApplicantIncome', 'CoapplicantIncome', 'LoanAmount',\n",
              "       'Loan_Amount_Term', 'Credit_History', 'Property_Area', 'Loan_Status'],\n",
              "      dtype='object')"
            ]
          },
          "metadata": {},
          "execution_count": 47
        }
      ],
      "source": [
        "x_train.columns"
      ],
      "id": "04e4174b"
    },
    {
      "cell_type": "code",
      "execution_count": 48,
      "metadata": {
        "id": "b5869cb1",
        "outputId": "07ad4385-5b38-4102-f728-f322306f424e",
        "colab": {
          "base_uri": "https://localhost:8080/",
          "height": 300
        }
      },
      "outputs": [
        {
          "output_type": "execute_result",
          "data": {
            "text/plain": [
              "       ApplicantIncome  CoapplicantIncome  LoanAmount  Loan_Amount_Term  \\\n",
              "count       614.000000         614.000000  592.000000         600.00000   \n",
              "mean       5403.459283        1621.245798  146.412162         342.00000   \n",
              "std        6109.041673        2926.248369   85.587325          65.12041   \n",
              "min         150.000000           0.000000    9.000000          12.00000   \n",
              "25%        2877.500000           0.000000  100.000000         360.00000   \n",
              "50%        3812.500000        1188.500000  128.000000         360.00000   \n",
              "75%        5795.000000        2297.250000  168.000000         360.00000   \n",
              "max       81000.000000       41667.000000  700.000000         480.00000   \n",
              "\n",
              "       Credit_History  \n",
              "count      564.000000  \n",
              "mean         0.842199  \n",
              "std          0.364878  \n",
              "min          0.000000  \n",
              "25%          1.000000  \n",
              "50%          1.000000  \n",
              "75%          1.000000  \n",
              "max          1.000000  "
            ],
            "text/html": [
              "\n",
              "  <div id=\"df-7a1c67f6-88d5-42fa-a91b-faaae1250470\">\n",
              "    <div class=\"colab-df-container\">\n",
              "      <div>\n",
              "<style scoped>\n",
              "    .dataframe tbody tr th:only-of-type {\n",
              "        vertical-align: middle;\n",
              "    }\n",
              "\n",
              "    .dataframe tbody tr th {\n",
              "        vertical-align: top;\n",
              "    }\n",
              "\n",
              "    .dataframe thead th {\n",
              "        text-align: right;\n",
              "    }\n",
              "</style>\n",
              "<table border=\"1\" class=\"dataframe\">\n",
              "  <thead>\n",
              "    <tr style=\"text-align: right;\">\n",
              "      <th></th>\n",
              "      <th>ApplicantIncome</th>\n",
              "      <th>CoapplicantIncome</th>\n",
              "      <th>LoanAmount</th>\n",
              "      <th>Loan_Amount_Term</th>\n",
              "      <th>Credit_History</th>\n",
              "    </tr>\n",
              "  </thead>\n",
              "  <tbody>\n",
              "    <tr>\n",
              "      <th>count</th>\n",
              "      <td>614.000000</td>\n",
              "      <td>614.000000</td>\n",
              "      <td>592.000000</td>\n",
              "      <td>600.00000</td>\n",
              "      <td>564.000000</td>\n",
              "    </tr>\n",
              "    <tr>\n",
              "      <th>mean</th>\n",
              "      <td>5403.459283</td>\n",
              "      <td>1621.245798</td>\n",
              "      <td>146.412162</td>\n",
              "      <td>342.00000</td>\n",
              "      <td>0.842199</td>\n",
              "    </tr>\n",
              "    <tr>\n",
              "      <th>std</th>\n",
              "      <td>6109.041673</td>\n",
              "      <td>2926.248369</td>\n",
              "      <td>85.587325</td>\n",
              "      <td>65.12041</td>\n",
              "      <td>0.364878</td>\n",
              "    </tr>\n",
              "    <tr>\n",
              "      <th>min</th>\n",
              "      <td>150.000000</td>\n",
              "      <td>0.000000</td>\n",
              "      <td>9.000000</td>\n",
              "      <td>12.00000</td>\n",
              "      <td>0.000000</td>\n",
              "    </tr>\n",
              "    <tr>\n",
              "      <th>25%</th>\n",
              "      <td>2877.500000</td>\n",
              "      <td>0.000000</td>\n",
              "      <td>100.000000</td>\n",
              "      <td>360.00000</td>\n",
              "      <td>1.000000</td>\n",
              "    </tr>\n",
              "    <tr>\n",
              "      <th>50%</th>\n",
              "      <td>3812.500000</td>\n",
              "      <td>1188.500000</td>\n",
              "      <td>128.000000</td>\n",
              "      <td>360.00000</td>\n",
              "      <td>1.000000</td>\n",
              "    </tr>\n",
              "    <tr>\n",
              "      <th>75%</th>\n",
              "      <td>5795.000000</td>\n",
              "      <td>2297.250000</td>\n",
              "      <td>168.000000</td>\n",
              "      <td>360.00000</td>\n",
              "      <td>1.000000</td>\n",
              "    </tr>\n",
              "    <tr>\n",
              "      <th>max</th>\n",
              "      <td>81000.000000</td>\n",
              "      <td>41667.000000</td>\n",
              "      <td>700.000000</td>\n",
              "      <td>480.00000</td>\n",
              "      <td>1.000000</td>\n",
              "    </tr>\n",
              "  </tbody>\n",
              "</table>\n",
              "</div>\n",
              "      <button class=\"colab-df-convert\" onclick=\"convertToInteractive('df-7a1c67f6-88d5-42fa-a91b-faaae1250470')\"\n",
              "              title=\"Convert this dataframe to an interactive table.\"\n",
              "              style=\"display:none;\">\n",
              "        \n",
              "  <svg xmlns=\"http://www.w3.org/2000/svg\" height=\"24px\"viewBox=\"0 0 24 24\"\n",
              "       width=\"24px\">\n",
              "    <path d=\"M0 0h24v24H0V0z\" fill=\"none\"/>\n",
              "    <path d=\"M18.56 5.44l.94 2.06.94-2.06 2.06-.94-2.06-.94-.94-2.06-.94 2.06-2.06.94zm-11 1L8.5 8.5l.94-2.06 2.06-.94-2.06-.94L8.5 2.5l-.94 2.06-2.06.94zm10 10l.94 2.06.94-2.06 2.06-.94-2.06-.94-.94-2.06-.94 2.06-2.06.94z\"/><path d=\"M17.41 7.96l-1.37-1.37c-.4-.4-.92-.59-1.43-.59-.52 0-1.04.2-1.43.59L10.3 9.45l-7.72 7.72c-.78.78-.78 2.05 0 2.83L4 21.41c.39.39.9.59 1.41.59.51 0 1.02-.2 1.41-.59l7.78-7.78 2.81-2.81c.8-.78.8-2.07 0-2.86zM5.41 20L4 18.59l7.72-7.72 1.47 1.35L5.41 20z\"/>\n",
              "  </svg>\n",
              "      </button>\n",
              "      \n",
              "  <style>\n",
              "    .colab-df-container {\n",
              "      display:flex;\n",
              "      flex-wrap:wrap;\n",
              "      gap: 12px;\n",
              "    }\n",
              "\n",
              "    .colab-df-convert {\n",
              "      background-color: #E8F0FE;\n",
              "      border: none;\n",
              "      border-radius: 50%;\n",
              "      cursor: pointer;\n",
              "      display: none;\n",
              "      fill: #1967D2;\n",
              "      height: 32px;\n",
              "      padding: 0 0 0 0;\n",
              "      width: 32px;\n",
              "    }\n",
              "\n",
              "    .colab-df-convert:hover {\n",
              "      background-color: #E2EBFA;\n",
              "      box-shadow: 0px 1px 2px rgba(60, 64, 67, 0.3), 0px 1px 3px 1px rgba(60, 64, 67, 0.15);\n",
              "      fill: #174EA6;\n",
              "    }\n",
              "\n",
              "    [theme=dark] .colab-df-convert {\n",
              "      background-color: #3B4455;\n",
              "      fill: #D2E3FC;\n",
              "    }\n",
              "\n",
              "    [theme=dark] .colab-df-convert:hover {\n",
              "      background-color: #434B5C;\n",
              "      box-shadow: 0px 1px 3px 1px rgba(0, 0, 0, 0.15);\n",
              "      filter: drop-shadow(0px 1px 2px rgba(0, 0, 0, 0.3));\n",
              "      fill: #FFFFFF;\n",
              "    }\n",
              "  </style>\n",
              "\n",
              "      <script>\n",
              "        const buttonEl =\n",
              "          document.querySelector('#df-7a1c67f6-88d5-42fa-a91b-faaae1250470 button.colab-df-convert');\n",
              "        buttonEl.style.display =\n",
              "          google.colab.kernel.accessAllowed ? 'block' : 'none';\n",
              "\n",
              "        async function convertToInteractive(key) {\n",
              "          const element = document.querySelector('#df-7a1c67f6-88d5-42fa-a91b-faaae1250470');\n",
              "          const dataTable =\n",
              "            await google.colab.kernel.invokeFunction('convertToInteractive',\n",
              "                                                     [key], {});\n",
              "          if (!dataTable) return;\n",
              "\n",
              "          const docLinkHtml = 'Like what you see? Visit the ' +\n",
              "            '<a target=\"_blank\" href=https://colab.research.google.com/notebooks/data_table.ipynb>data table notebook</a>'\n",
              "            + ' to learn more about interactive tables.';\n",
              "          element.innerHTML = '';\n",
              "          dataTable['output_type'] = 'display_data';\n",
              "          await google.colab.output.renderOutput(dataTable, element);\n",
              "          const docLink = document.createElement('div');\n",
              "          docLink.innerHTML = docLinkHtml;\n",
              "          element.appendChild(docLink);\n",
              "        }\n",
              "      </script>\n",
              "    </div>\n",
              "  </div>\n",
              "  "
            ]
          },
          "metadata": {},
          "execution_count": 48
        }
      ],
      "source": [
        "x_train.describe()"
      ],
      "id": "b5869cb1"
    },
    {
      "cell_type": "code",
      "execution_count": 49,
      "metadata": {
        "id": "df893736",
        "outputId": "6db1c098-d535-49df-ba0b-768d7ba11e8c",
        "colab": {
          "base_uri": "https://localhost:8080/",
          "height": 300
        }
      },
      "outputs": [
        {
          "output_type": "execute_result",
          "data": {
            "text/plain": [
              "       ApplicantIncome  CoapplicantIncome  LoanAmount  Loan_Amount_Term  \\\n",
              "count       367.000000         367.000000  362.000000        361.000000   \n",
              "mean       4805.599455        1569.577657  136.132597        342.537396   \n",
              "std        4910.685399        2334.232099   61.366652         65.156643   \n",
              "min           0.000000           0.000000   28.000000          6.000000   \n",
              "25%        2864.000000           0.000000  100.250000        360.000000   \n",
              "50%        3786.000000        1025.000000  125.000000        360.000000   \n",
              "75%        5060.000000        2430.500000  158.000000        360.000000   \n",
              "max       72529.000000       24000.000000  550.000000        480.000000   \n",
              "\n",
              "       Credit_History  \n",
              "count      338.000000  \n",
              "mean         0.825444  \n",
              "std          0.380150  \n",
              "min          0.000000  \n",
              "25%          1.000000  \n",
              "50%          1.000000  \n",
              "75%          1.000000  \n",
              "max          1.000000  "
            ],
            "text/html": [
              "\n",
              "  <div id=\"df-2d343b3e-c6cd-4c9e-9491-0cc329e53fa8\">\n",
              "    <div class=\"colab-df-container\">\n",
              "      <div>\n",
              "<style scoped>\n",
              "    .dataframe tbody tr th:only-of-type {\n",
              "        vertical-align: middle;\n",
              "    }\n",
              "\n",
              "    .dataframe tbody tr th {\n",
              "        vertical-align: top;\n",
              "    }\n",
              "\n",
              "    .dataframe thead th {\n",
              "        text-align: right;\n",
              "    }\n",
              "</style>\n",
              "<table border=\"1\" class=\"dataframe\">\n",
              "  <thead>\n",
              "    <tr style=\"text-align: right;\">\n",
              "      <th></th>\n",
              "      <th>ApplicantIncome</th>\n",
              "      <th>CoapplicantIncome</th>\n",
              "      <th>LoanAmount</th>\n",
              "      <th>Loan_Amount_Term</th>\n",
              "      <th>Credit_History</th>\n",
              "    </tr>\n",
              "  </thead>\n",
              "  <tbody>\n",
              "    <tr>\n",
              "      <th>count</th>\n",
              "      <td>367.000000</td>\n",
              "      <td>367.000000</td>\n",
              "      <td>362.000000</td>\n",
              "      <td>361.000000</td>\n",
              "      <td>338.000000</td>\n",
              "    </tr>\n",
              "    <tr>\n",
              "      <th>mean</th>\n",
              "      <td>4805.599455</td>\n",
              "      <td>1569.577657</td>\n",
              "      <td>136.132597</td>\n",
              "      <td>342.537396</td>\n",
              "      <td>0.825444</td>\n",
              "    </tr>\n",
              "    <tr>\n",
              "      <th>std</th>\n",
              "      <td>4910.685399</td>\n",
              "      <td>2334.232099</td>\n",
              "      <td>61.366652</td>\n",
              "      <td>65.156643</td>\n",
              "      <td>0.380150</td>\n",
              "    </tr>\n",
              "    <tr>\n",
              "      <th>min</th>\n",
              "      <td>0.000000</td>\n",
              "      <td>0.000000</td>\n",
              "      <td>28.000000</td>\n",
              "      <td>6.000000</td>\n",
              "      <td>0.000000</td>\n",
              "    </tr>\n",
              "    <tr>\n",
              "      <th>25%</th>\n",
              "      <td>2864.000000</td>\n",
              "      <td>0.000000</td>\n",
              "      <td>100.250000</td>\n",
              "      <td>360.000000</td>\n",
              "      <td>1.000000</td>\n",
              "    </tr>\n",
              "    <tr>\n",
              "      <th>50%</th>\n",
              "      <td>3786.000000</td>\n",
              "      <td>1025.000000</td>\n",
              "      <td>125.000000</td>\n",
              "      <td>360.000000</td>\n",
              "      <td>1.000000</td>\n",
              "    </tr>\n",
              "    <tr>\n",
              "      <th>75%</th>\n",
              "      <td>5060.000000</td>\n",
              "      <td>2430.500000</td>\n",
              "      <td>158.000000</td>\n",
              "      <td>360.000000</td>\n",
              "      <td>1.000000</td>\n",
              "    </tr>\n",
              "    <tr>\n",
              "      <th>max</th>\n",
              "      <td>72529.000000</td>\n",
              "      <td>24000.000000</td>\n",
              "      <td>550.000000</td>\n",
              "      <td>480.000000</td>\n",
              "      <td>1.000000</td>\n",
              "    </tr>\n",
              "  </tbody>\n",
              "</table>\n",
              "</div>\n",
              "      <button class=\"colab-df-convert\" onclick=\"convertToInteractive('df-2d343b3e-c6cd-4c9e-9491-0cc329e53fa8')\"\n",
              "              title=\"Convert this dataframe to an interactive table.\"\n",
              "              style=\"display:none;\">\n",
              "        \n",
              "  <svg xmlns=\"http://www.w3.org/2000/svg\" height=\"24px\"viewBox=\"0 0 24 24\"\n",
              "       width=\"24px\">\n",
              "    <path d=\"M0 0h24v24H0V0z\" fill=\"none\"/>\n",
              "    <path d=\"M18.56 5.44l.94 2.06.94-2.06 2.06-.94-2.06-.94-.94-2.06-.94 2.06-2.06.94zm-11 1L8.5 8.5l.94-2.06 2.06-.94-2.06-.94L8.5 2.5l-.94 2.06-2.06.94zm10 10l.94 2.06.94-2.06 2.06-.94-2.06-.94-.94-2.06-.94 2.06-2.06.94z\"/><path d=\"M17.41 7.96l-1.37-1.37c-.4-.4-.92-.59-1.43-.59-.52 0-1.04.2-1.43.59L10.3 9.45l-7.72 7.72c-.78.78-.78 2.05 0 2.83L4 21.41c.39.39.9.59 1.41.59.51 0 1.02-.2 1.41-.59l7.78-7.78 2.81-2.81c.8-.78.8-2.07 0-2.86zM5.41 20L4 18.59l7.72-7.72 1.47 1.35L5.41 20z\"/>\n",
              "  </svg>\n",
              "      </button>\n",
              "      \n",
              "  <style>\n",
              "    .colab-df-container {\n",
              "      display:flex;\n",
              "      flex-wrap:wrap;\n",
              "      gap: 12px;\n",
              "    }\n",
              "\n",
              "    .colab-df-convert {\n",
              "      background-color: #E8F0FE;\n",
              "      border: none;\n",
              "      border-radius: 50%;\n",
              "      cursor: pointer;\n",
              "      display: none;\n",
              "      fill: #1967D2;\n",
              "      height: 32px;\n",
              "      padding: 0 0 0 0;\n",
              "      width: 32px;\n",
              "    }\n",
              "\n",
              "    .colab-df-convert:hover {\n",
              "      background-color: #E2EBFA;\n",
              "      box-shadow: 0px 1px 2px rgba(60, 64, 67, 0.3), 0px 1px 3px 1px rgba(60, 64, 67, 0.15);\n",
              "      fill: #174EA6;\n",
              "    }\n",
              "\n",
              "    [theme=dark] .colab-df-convert {\n",
              "      background-color: #3B4455;\n",
              "      fill: #D2E3FC;\n",
              "    }\n",
              "\n",
              "    [theme=dark] .colab-df-convert:hover {\n",
              "      background-color: #434B5C;\n",
              "      box-shadow: 0px 1px 3px 1px rgba(0, 0, 0, 0.15);\n",
              "      filter: drop-shadow(0px 1px 2px rgba(0, 0, 0, 0.3));\n",
              "      fill: #FFFFFF;\n",
              "    }\n",
              "  </style>\n",
              "\n",
              "      <script>\n",
              "        const buttonEl =\n",
              "          document.querySelector('#df-2d343b3e-c6cd-4c9e-9491-0cc329e53fa8 button.colab-df-convert');\n",
              "        buttonEl.style.display =\n",
              "          google.colab.kernel.accessAllowed ? 'block' : 'none';\n",
              "\n",
              "        async function convertToInteractive(key) {\n",
              "          const element = document.querySelector('#df-2d343b3e-c6cd-4c9e-9491-0cc329e53fa8');\n",
              "          const dataTable =\n",
              "            await google.colab.kernel.invokeFunction('convertToInteractive',\n",
              "                                                     [key], {});\n",
              "          if (!dataTable) return;\n",
              "\n",
              "          const docLinkHtml = 'Like what you see? Visit the ' +\n",
              "            '<a target=\"_blank\" href=https://colab.research.google.com/notebooks/data_table.ipynb>data table notebook</a>'\n",
              "            + ' to learn more about interactive tables.';\n",
              "          element.innerHTML = '';\n",
              "          dataTable['output_type'] = 'display_data';\n",
              "          await google.colab.output.renderOutput(dataTable, element);\n",
              "          const docLink = document.createElement('div');\n",
              "          docLink.innerHTML = docLinkHtml;\n",
              "          element.appendChild(docLink);\n",
              "        }\n",
              "      </script>\n",
              "    </div>\n",
              "  </div>\n",
              "  "
            ]
          },
          "metadata": {},
          "execution_count": 49
        }
      ],
      "source": [
        "x_test.describe()"
      ],
      "id": "df893736"
    },
    {
      "cell_type": "raw",
      "metadata": {
        "id": "975316ca"
      },
      "source": [
        "**SUMMARY OF THE FEATURES:**\n",
        "\n",
        "Loan_ID is not a feature.so we drop the column.\n",
        "\n",
        "Gender is binary variable feature we encode this with label encoding.\n",
        "\n",
        "Married is also a binary variable feature we encode this with label encoding.\n",
        "\n",
        "Dependents is a multiclass feature.we will decide after EDA part which encode is suitable for this.\n",
        "\n",
        "Education is binary class over here we will go with label encoding.\n",
        "\n",
        "Self_Employed is also a binary class variable will go with label encoding.\n",
        "\n",
        "ApplicantIncome is a continuous variable no encoding is needed.\n",
        "\n",
        "CoapplicantIncome is also a continuous variable no encoding is needed.\n",
        "\n",
        "LoanAmount is also a continuous variable no encoding is needed.\n",
        "\n",
        "Loan_Amount_Term is also a continuous variable no encoding is needed.\n",
        "\n",
        "Credit_History is also a continuous variable no encoding is needed.\n",
        "\n",
        "Property_Area is a multiclass variable. After EDA part will decide lable or onhot.\n",
        "\n",
        "Loan_Status is a binary variable.We will go with lable encoding.\n"
      ],
      "id": "975316ca"
    },
    {
      "cell_type": "markdown",
      "metadata": {
        "id": "287d2286"
      },
      "source": [
        "# CHECKING IS THERE ANY NULL IN DATASETS"
      ],
      "id": "287d2286"
    },
    {
      "cell_type": "code",
      "execution_count": 50,
      "metadata": {
        "id": "fb8290ff",
        "outputId": "7e4b303a-60d5-41a9-ba75-1f8724de3440",
        "colab": {
          "base_uri": "https://localhost:8080/"
        }
      },
      "outputs": [
        {
          "output_type": "execute_result",
          "data": {
            "text/plain": [
              "(614, 13)"
            ]
          },
          "metadata": {},
          "execution_count": 50
        }
      ],
      "source": [
        "x_train.isnull().sum()\n",
        "x_train.shape"
      ],
      "id": "fb8290ff"
    },
    {
      "cell_type": "markdown",
      "source": [
        "we will impute using mode for gender and married.\n",
        "\n",
        "we will immpute using mean for Loanamount and loanamount term.\n",
        "\n",
        "we drop nan from dependents,selfemployed and credit history"
      ],
      "metadata": {
        "id": "s-IC4-4droWR"
      },
      "id": "s-IC4-4droWR"
    },
    {
      "cell_type": "code",
      "execution_count": 51,
      "metadata": {
        "id": "a9ed5fb1",
        "outputId": "25dd937c-b606-42af-ee63-aa6be18949e9",
        "colab": {
          "base_uri": "https://localhost:8080/"
        }
      },
      "outputs": [
        {
          "output_type": "execute_result",
          "data": {
            "text/plain": [
              "Loan_ID               0\n",
              "Gender               11\n",
              "Married               0\n",
              "Dependents           10\n",
              "Education             0\n",
              "Self_Employed        23\n",
              "ApplicantIncome       0\n",
              "CoapplicantIncome     0\n",
              "LoanAmount            5\n",
              "Loan_Amount_Term      6\n",
              "Credit_History       29\n",
              "Property_Area         0\n",
              "dtype: int64"
            ]
          },
          "metadata": {},
          "execution_count": 51
        }
      ],
      "source": [
        "x_test.isnull().sum()"
      ],
      "id": "a9ed5fb1"
    },
    {
      "cell_type": "markdown",
      "source": [
        "we will impute using mode for gender.\n",
        "\n",
        "we will immpute using mean for Loanamount and loanamount term.\n",
        "\n",
        "we drop nan from dependents,selfemployed and credit history"
      ],
      "metadata": {
        "id": "z5ruVKKNrsWG"
      },
      "id": "z5ruVKKNrsWG"
    },
    {
      "cell_type": "code",
      "execution_count": null,
      "metadata": {
        "id": "d683b69e"
      },
      "outputs": [],
      "source": [
        ""
      ],
      "id": "d683b69e"
    },
    {
      "cell_type": "markdown",
      "metadata": {
        "id": "8faca532"
      },
      "source": [
        "# Loan_ID"
      ],
      "id": "8faca532"
    },
    {
      "cell_type": "code",
      "execution_count": 97,
      "metadata": {
        "id": "6d0b3c9b"
      },
      "outputs": [],
      "source": [
        "x_train=x_train.drop(['Loan_ID'],axis=1)\n",
        "x_test=x_test.drop(['Loan_ID'],axis=1)"
      ],
      "id": "6d0b3c9b"
    },
    {
      "cell_type": "markdown",
      "source": [
        "Here, We dropped the loand_id column in both x_train and x_test."
      ],
      "metadata": {
        "id": "zo8rjYlErzOw"
      },
      "id": "zo8rjYlErzOw"
    },
    {
      "cell_type": "markdown",
      "metadata": {
        "id": "a3c97535"
      },
      "source": [
        "# Gender"
      ],
      "id": "a3c97535"
    },
    {
      "cell_type": "code",
      "execution_count": 53,
      "metadata": {
        "id": "7032de4b",
        "outputId": "cd7e09a1-5a74-437d-cfbf-c4b5a8c3640c",
        "colab": {
          "base_uri": "https://localhost:8080/"
        }
      },
      "outputs": [
        {
          "output_type": "execute_result",
          "data": {
            "text/plain": [
              "(0    Male\n",
              " dtype: object, 0    Male\n",
              " dtype: object)"
            ]
          },
          "metadata": {},
          "execution_count": 53
        }
      ],
      "source": [
        "x=x_train['Gender'].mode()\n",
        "y=x_test['Gender'].mode()\n",
        "x,y"
      ],
      "id": "7032de4b"
    },
    {
      "cell_type": "code",
      "execution_count": 98,
      "metadata": {
        "id": "1d037ff8",
        "outputId": "f5b97726-01ff-4b9e-8e67-2c3be1edd33e",
        "colab": {
          "base_uri": "https://localhost:8080/"
        }
      },
      "outputs": [
        {
          "output_type": "execute_result",
          "data": {
            "text/plain": [
              "(array(['Male', 'Female'], dtype=object),\n",
              " array(['Male', 'Female'], dtype=object))"
            ]
          },
          "metadata": {},
          "execution_count": 98
        }
      ],
      "source": [
        "x_train['Gender']=x_train['Gender'].fillna('Male')\n",
        "x=x_train['Gender'].unique()\n",
        "x_test['Gender']=x_test['Gender'].fillna('Male')\n",
        "y=x_test['Gender'].unique()\n",
        "x,y"
      ],
      "id": "1d037ff8"
    },
    {
      "cell_type": "markdown",
      "source": [
        "Here, We imputed gender column in both x_train and x_test."
      ],
      "metadata": {
        "id": "BOMAbtZFr22Q"
      },
      "id": "BOMAbtZFr22Q"
    },
    {
      "cell_type": "markdown",
      "metadata": {
        "id": "e5e77a46"
      },
      "source": [
        "# Married"
      ],
      "id": "e5e77a46"
    },
    {
      "cell_type": "code",
      "execution_count": 55,
      "metadata": {
        "colab": {
          "base_uri": "https://localhost:8080/"
        },
        "id": "b4679e24",
        "outputId": "b96adcd2-22bb-460c-a991-17606b4997e0"
      },
      "outputs": [
        {
          "output_type": "execute_result",
          "data": {
            "text/plain": [
              "0    Yes\n",
              "dtype: object"
            ]
          },
          "metadata": {},
          "execution_count": 55
        }
      ],
      "source": [
        "x=x_train['Married'].mode()\n",
        "x"
      ],
      "id": "b4679e24"
    },
    {
      "cell_type": "code",
      "execution_count": 99,
      "metadata": {
        "colab": {
          "base_uri": "https://localhost:8080/"
        },
        "id": "a0aef85e",
        "outputId": "88cd8056-42f4-4ad0-8f33-60557d87b421"
      },
      "outputs": [
        {
          "output_type": "execute_result",
          "data": {
            "text/plain": [
              "array(['No', 'Yes'], dtype=object)"
            ]
          },
          "metadata": {},
          "execution_count": 99
        }
      ],
      "source": [
        "x_train['Married']=x_train['Married'].fillna('Yes')\n",
        "x_train['Married'].unique()"
      ],
      "id": "a0aef85e"
    },
    {
      "cell_type": "markdown",
      "source": [
        "Here, We imputed married column in x_train."
      ],
      "metadata": {
        "id": "jL6-fv1mr7G0"
      },
      "id": "jL6-fv1mr7G0"
    },
    {
      "cell_type": "markdown",
      "metadata": {
        "id": "4e979860"
      },
      "source": [
        "# LoanAmount"
      ],
      "id": "4e979860"
    },
    {
      "cell_type": "code",
      "source": [
        "x=x_train['LoanAmount'].mean()\n",
        "y=x_test['LoanAmount'].mean()\n",
        "x,y"
      ],
      "metadata": {
        "colab": {
          "base_uri": "https://localhost:8080/"
        },
        "id": "2aPsgEOButPF",
        "outputId": "f64e8271-1713-44a4-eb2e-fc5487a51cf3"
      },
      "id": "2aPsgEOButPF",
      "execution_count": 101,
      "outputs": [
        {
          "output_type": "execute_result",
          "data": {
            "text/plain": [
              "(146.41216216216216, 136.13259668508286)"
            ]
          },
          "metadata": {},
          "execution_count": 101
        }
      ]
    },
    {
      "cell_type": "code",
      "execution_count": 102,
      "metadata": {
        "id": "e60c769a"
      },
      "outputs": [],
      "source": [
        "x_train['LoanAmount']=x_train['LoanAmount'].fillna(x)\n",
        "x_test['LoanAmount']=x_test['LoanAmount'].fillna(y)"
      ],
      "id": "e60c769a"
    },
    {
      "cell_type": "markdown",
      "metadata": {
        "id": "1c6a19be"
      },
      "source": [
        "# Loan_Amount_Term      "
      ],
      "id": "1c6a19be"
    },
    {
      "cell_type": "code",
      "execution_count": 103,
      "metadata": {
        "id": "4ffbd8e5",
        "outputId": "afcd96b3-9b9d-4816-9c44-2616ad961ced",
        "colab": {
          "base_uri": "https://localhost:8080/"
        }
      },
      "outputs": [
        {
          "output_type": "execute_result",
          "data": {
            "text/plain": [
              "(342.0, 342.53739612188366)"
            ]
          },
          "metadata": {},
          "execution_count": 103
        }
      ],
      "source": [
        "x=x_train['Loan_Amount_Term'].mean()\n",
        "y=x_test['Loan_Amount_Term'].mean()\n",
        "x,y"
      ],
      "id": "4ffbd8e5"
    },
    {
      "cell_type": "code",
      "execution_count": 104,
      "metadata": {
        "id": "566c0a31"
      },
      "outputs": [],
      "source": [
        "x_train['Loan_Amount_Term']=x_train['Loan_Amount_Term'].fillna(x)\n",
        "x_test['Loan_Amount_Term']=x_test['Loan_Amount_Term'].fillna(y)"
      ],
      "id": "566c0a31"
    },
    {
      "cell_type": "code",
      "execution_count": 105,
      "metadata": {
        "id": "606d5df9"
      },
      "outputs": [],
      "source": [
        "x_train=x_train.dropna()\n",
        "x_test=x_test.dropna()"
      ],
      "id": "606d5df9"
    },
    {
      "cell_type": "code",
      "execution_count": 106,
      "metadata": {
        "id": "c197fe03",
        "outputId": "90a2ceaf-e2fd-448e-ec45-ad5d526beb8d",
        "colab": {
          "base_uri": "https://localhost:8080/"
        }
      },
      "outputs": [
        {
          "output_type": "execute_result",
          "data": {
            "text/plain": [
              "Gender               0\n",
              "Married              0\n",
              "Dependents           0\n",
              "Education            0\n",
              "Self_Employed        0\n",
              "ApplicantIncome      0\n",
              "CoapplicantIncome    0\n",
              "LoanAmount           0\n",
              "Loan_Amount_Term     0\n",
              "Credit_History       0\n",
              "Property_Area        0\n",
              "Loan_Status          0\n",
              "dtype: int64"
            ]
          },
          "metadata": {},
          "execution_count": 106
        }
      ],
      "source": [
        "x_train.isnull().sum()"
      ],
      "id": "c197fe03"
    },
    {
      "cell_type": "code",
      "execution_count": 107,
      "metadata": {
        "id": "7e160b87",
        "outputId": "c0d8006f-8434-478d-82b1-4cb7a3213fdf",
        "colab": {
          "base_uri": "https://localhost:8080/"
        }
      },
      "outputs": [
        {
          "output_type": "execute_result",
          "data": {
            "text/plain": [
              "Gender               0\n",
              "Married              0\n",
              "Dependents           0\n",
              "Education            0\n",
              "Self_Employed        0\n",
              "ApplicantIncome      0\n",
              "CoapplicantIncome    0\n",
              "LoanAmount           0\n",
              "Loan_Amount_Term     0\n",
              "Credit_History       0\n",
              "Property_Area        0\n",
              "dtype: int64"
            ]
          },
          "metadata": {},
          "execution_count": 107
        }
      ],
      "source": [
        "x_test.isnull().sum()"
      ],
      "id": "7e160b87"
    },
    {
      "cell_type": "markdown",
      "metadata": {
        "id": "e91b4be5"
      },
      "source": [
        "# CHECKING IS THERE ANY DUBLICATES"
      ],
      "id": "e91b4be5"
    },
    {
      "cell_type": "code",
      "execution_count": 19,
      "metadata": {
        "id": "1aeef4a8",
        "outputId": "bc548dd4-a890-4128-db33-1ebd2c73658c",
        "colab": {
          "base_uri": "https://localhost:8080/"
        }
      },
      "outputs": [
        {
          "output_type": "execute_result",
          "data": {
            "text/plain": [
              "0"
            ]
          },
          "metadata": {},
          "execution_count": 19
        }
      ],
      "source": [
        "x_train.duplicated().sum()"
      ],
      "id": "1aeef4a8"
    },
    {
      "cell_type": "code",
      "execution_count": 108,
      "metadata": {
        "id": "407c661c",
        "outputId": "e5c0dcbc-1c96-4c2b-fdc6-c7479d335b77",
        "colab": {
          "base_uri": "https://localhost:8080/"
        }
      },
      "outputs": [
        {
          "output_type": "execute_result",
          "data": {
            "text/plain": [
              "1"
            ]
          },
          "metadata": {},
          "execution_count": 108
        }
      ],
      "source": [
        "x_test.duplicated().sum()"
      ],
      "id": "407c661c"
    },
    {
      "cell_type": "code",
      "execution_count": 109,
      "metadata": {
        "id": "76bb42ef"
      },
      "outputs": [],
      "source": [
        "x_test=x_test.drop_duplicates()"
      ],
      "id": "76bb42ef"
    },
    {
      "cell_type": "code",
      "execution_count": 110,
      "metadata": {
        "id": "a2da3f2c",
        "outputId": "960f4c7f-9966-4bcf-cbc1-12218b587dba",
        "colab": {
          "base_uri": "https://localhost:8080/"
        }
      },
      "outputs": [
        {
          "output_type": "execute_result",
          "data": {
            "text/plain": [
              "0"
            ]
          },
          "metadata": {},
          "execution_count": 110
        }
      ],
      "source": [
        "x_test.duplicated().sum()"
      ],
      "id": "a2da3f2c"
    },
    {
      "cell_type": "code",
      "execution_count": null,
      "metadata": {
        "id": "99e3319f"
      },
      "outputs": [],
      "source": [
        ""
      ],
      "id": "99e3319f"
    },
    {
      "cell_type": "markdown",
      "metadata": {
        "id": "285d4f6c"
      },
      "source": [
        "# CHECKING OUTLIERS"
      ],
      "id": "285d4f6c"
    },
    {
      "cell_type": "code",
      "execution_count": 66,
      "metadata": {
        "id": "11bcd391",
        "outputId": "5776aebe-0483-4ff7-a02c-28a4d40e4262",
        "colab": {
          "base_uri": "https://localhost:8080/",
          "height": 300
        }
      },
      "outputs": [
        {
          "output_type": "execute_result",
          "data": {
            "text/plain": [
              "       ApplicantIncome  CoapplicantIncome  LoanAmount  Loan_Amount_Term  \\\n",
              "count       523.000000         523.000000  523.000000        523.000000   \n",
              "mean       5439.227533        1554.783786  145.789352        341.965583   \n",
              "std        5949.632561        2540.882028   82.047179         63.822482   \n",
              "min         150.000000           0.000000    9.000000         36.000000   \n",
              "25%        2885.500000           0.000000  100.500000        360.000000   \n",
              "50%        3858.000000        1086.000000  130.000000        360.000000   \n",
              "75%        5839.000000        2250.000000  167.500000        360.000000   \n",
              "max       81000.000000       33837.000000  700.000000        480.000000   \n",
              "\n",
              "       Credit_History  \n",
              "count      523.000000  \n",
              "mean         0.841300  \n",
              "std          0.365746  \n",
              "min          0.000000  \n",
              "25%          1.000000  \n",
              "50%          1.000000  \n",
              "75%          1.000000  \n",
              "max          1.000000  "
            ],
            "text/html": [
              "\n",
              "  <div id=\"df-6067ebd0-0101-4823-96d1-d30ec25c1d80\">\n",
              "    <div class=\"colab-df-container\">\n",
              "      <div>\n",
              "<style scoped>\n",
              "    .dataframe tbody tr th:only-of-type {\n",
              "        vertical-align: middle;\n",
              "    }\n",
              "\n",
              "    .dataframe tbody tr th {\n",
              "        vertical-align: top;\n",
              "    }\n",
              "\n",
              "    .dataframe thead th {\n",
              "        text-align: right;\n",
              "    }\n",
              "</style>\n",
              "<table border=\"1\" class=\"dataframe\">\n",
              "  <thead>\n",
              "    <tr style=\"text-align: right;\">\n",
              "      <th></th>\n",
              "      <th>ApplicantIncome</th>\n",
              "      <th>CoapplicantIncome</th>\n",
              "      <th>LoanAmount</th>\n",
              "      <th>Loan_Amount_Term</th>\n",
              "      <th>Credit_History</th>\n",
              "    </tr>\n",
              "  </thead>\n",
              "  <tbody>\n",
              "    <tr>\n",
              "      <th>count</th>\n",
              "      <td>523.000000</td>\n",
              "      <td>523.000000</td>\n",
              "      <td>523.000000</td>\n",
              "      <td>523.000000</td>\n",
              "      <td>523.000000</td>\n",
              "    </tr>\n",
              "    <tr>\n",
              "      <th>mean</th>\n",
              "      <td>5439.227533</td>\n",
              "      <td>1554.783786</td>\n",
              "      <td>145.789352</td>\n",
              "      <td>341.965583</td>\n",
              "      <td>0.841300</td>\n",
              "    </tr>\n",
              "    <tr>\n",
              "      <th>std</th>\n",
              "      <td>5949.632561</td>\n",
              "      <td>2540.882028</td>\n",
              "      <td>82.047179</td>\n",
              "      <td>63.822482</td>\n",
              "      <td>0.365746</td>\n",
              "    </tr>\n",
              "    <tr>\n",
              "      <th>min</th>\n",
              "      <td>150.000000</td>\n",
              "      <td>0.000000</td>\n",
              "      <td>9.000000</td>\n",
              "      <td>36.000000</td>\n",
              "      <td>0.000000</td>\n",
              "    </tr>\n",
              "    <tr>\n",
              "      <th>25%</th>\n",
              "      <td>2885.500000</td>\n",
              "      <td>0.000000</td>\n",
              "      <td>100.500000</td>\n",
              "      <td>360.000000</td>\n",
              "      <td>1.000000</td>\n",
              "    </tr>\n",
              "    <tr>\n",
              "      <th>50%</th>\n",
              "      <td>3858.000000</td>\n",
              "      <td>1086.000000</td>\n",
              "      <td>130.000000</td>\n",
              "      <td>360.000000</td>\n",
              "      <td>1.000000</td>\n",
              "    </tr>\n",
              "    <tr>\n",
              "      <th>75%</th>\n",
              "      <td>5839.000000</td>\n",
              "      <td>2250.000000</td>\n",
              "      <td>167.500000</td>\n",
              "      <td>360.000000</td>\n",
              "      <td>1.000000</td>\n",
              "    </tr>\n",
              "    <tr>\n",
              "      <th>max</th>\n",
              "      <td>81000.000000</td>\n",
              "      <td>33837.000000</td>\n",
              "      <td>700.000000</td>\n",
              "      <td>480.000000</td>\n",
              "      <td>1.000000</td>\n",
              "    </tr>\n",
              "  </tbody>\n",
              "</table>\n",
              "</div>\n",
              "      <button class=\"colab-df-convert\" onclick=\"convertToInteractive('df-6067ebd0-0101-4823-96d1-d30ec25c1d80')\"\n",
              "              title=\"Convert this dataframe to an interactive table.\"\n",
              "              style=\"display:none;\">\n",
              "        \n",
              "  <svg xmlns=\"http://www.w3.org/2000/svg\" height=\"24px\"viewBox=\"0 0 24 24\"\n",
              "       width=\"24px\">\n",
              "    <path d=\"M0 0h24v24H0V0z\" fill=\"none\"/>\n",
              "    <path d=\"M18.56 5.44l.94 2.06.94-2.06 2.06-.94-2.06-.94-.94-2.06-.94 2.06-2.06.94zm-11 1L8.5 8.5l.94-2.06 2.06-.94-2.06-.94L8.5 2.5l-.94 2.06-2.06.94zm10 10l.94 2.06.94-2.06 2.06-.94-2.06-.94-.94-2.06-.94 2.06-2.06.94z\"/><path d=\"M17.41 7.96l-1.37-1.37c-.4-.4-.92-.59-1.43-.59-.52 0-1.04.2-1.43.59L10.3 9.45l-7.72 7.72c-.78.78-.78 2.05 0 2.83L4 21.41c.39.39.9.59 1.41.59.51 0 1.02-.2 1.41-.59l7.78-7.78 2.81-2.81c.8-.78.8-2.07 0-2.86zM5.41 20L4 18.59l7.72-7.72 1.47 1.35L5.41 20z\"/>\n",
              "  </svg>\n",
              "      </button>\n",
              "      \n",
              "  <style>\n",
              "    .colab-df-container {\n",
              "      display:flex;\n",
              "      flex-wrap:wrap;\n",
              "      gap: 12px;\n",
              "    }\n",
              "\n",
              "    .colab-df-convert {\n",
              "      background-color: #E8F0FE;\n",
              "      border: none;\n",
              "      border-radius: 50%;\n",
              "      cursor: pointer;\n",
              "      display: none;\n",
              "      fill: #1967D2;\n",
              "      height: 32px;\n",
              "      padding: 0 0 0 0;\n",
              "      width: 32px;\n",
              "    }\n",
              "\n",
              "    .colab-df-convert:hover {\n",
              "      background-color: #E2EBFA;\n",
              "      box-shadow: 0px 1px 2px rgba(60, 64, 67, 0.3), 0px 1px 3px 1px rgba(60, 64, 67, 0.15);\n",
              "      fill: #174EA6;\n",
              "    }\n",
              "\n",
              "    [theme=dark] .colab-df-convert {\n",
              "      background-color: #3B4455;\n",
              "      fill: #D2E3FC;\n",
              "    }\n",
              "\n",
              "    [theme=dark] .colab-df-convert:hover {\n",
              "      background-color: #434B5C;\n",
              "      box-shadow: 0px 1px 3px 1px rgba(0, 0, 0, 0.15);\n",
              "      filter: drop-shadow(0px 1px 2px rgba(0, 0, 0, 0.3));\n",
              "      fill: #FFFFFF;\n",
              "    }\n",
              "  </style>\n",
              "\n",
              "      <script>\n",
              "        const buttonEl =\n",
              "          document.querySelector('#df-6067ebd0-0101-4823-96d1-d30ec25c1d80 button.colab-df-convert');\n",
              "        buttonEl.style.display =\n",
              "          google.colab.kernel.accessAllowed ? 'block' : 'none';\n",
              "\n",
              "        async function convertToInteractive(key) {\n",
              "          const element = document.querySelector('#df-6067ebd0-0101-4823-96d1-d30ec25c1d80');\n",
              "          const dataTable =\n",
              "            await google.colab.kernel.invokeFunction('convertToInteractive',\n",
              "                                                     [key], {});\n",
              "          if (!dataTable) return;\n",
              "\n",
              "          const docLinkHtml = 'Like what you see? Visit the ' +\n",
              "            '<a target=\"_blank\" href=https://colab.research.google.com/notebooks/data_table.ipynb>data table notebook</a>'\n",
              "            + ' to learn more about interactive tables.';\n",
              "          element.innerHTML = '';\n",
              "          dataTable['output_type'] = 'display_data';\n",
              "          await google.colab.output.renderOutput(dataTable, element);\n",
              "          const docLink = document.createElement('div');\n",
              "          docLink.innerHTML = docLinkHtml;\n",
              "          element.appendChild(docLink);\n",
              "        }\n",
              "      </script>\n",
              "    </div>\n",
              "  </div>\n",
              "  "
            ]
          },
          "metadata": {},
          "execution_count": 66
        }
      ],
      "source": [
        "x_train.describe()"
      ],
      "id": "11bcd391"
    },
    {
      "cell_type": "code",
      "execution_count": 67,
      "metadata": {
        "id": "1cc4ddea",
        "outputId": "85ced4b9-08e3-4f41-f830-df686362d131",
        "colab": {
          "base_uri": "https://localhost:8080/",
          "height": 300
        }
      },
      "outputs": [
        {
          "output_type": "execute_result",
          "data": {
            "text/plain": [
              "       ApplicantIncome  CoapplicantIncome  LoanAmount  Loan_Amount_Term  \\\n",
              "count       307.000000         307.000000  307.000000        307.000000   \n",
              "mean       4707.081433        1555.029316  136.092933        343.207449   \n",
              "std        4914.699219        2339.457035   58.522981         64.928363   \n",
              "min           0.000000           0.000000   28.000000          6.000000   \n",
              "25%        2864.000000           0.000000  102.000000        360.000000   \n",
              "50%        3791.000000        1000.000000  126.000000        360.000000   \n",
              "75%        5020.500000        2430.500000  154.000000        360.000000   \n",
              "max       72529.000000       24000.000000  460.000000        480.000000   \n",
              "\n",
              "       Credit_History  \n",
              "count      307.000000  \n",
              "mean         0.837134  \n",
              "std          0.369847  \n",
              "min          0.000000  \n",
              "25%          1.000000  \n",
              "50%          1.000000  \n",
              "75%          1.000000  \n",
              "max          1.000000  "
            ],
            "text/html": [
              "\n",
              "  <div id=\"df-bc488ebf-168d-49e4-a7f6-6e550dd187aa\">\n",
              "    <div class=\"colab-df-container\">\n",
              "      <div>\n",
              "<style scoped>\n",
              "    .dataframe tbody tr th:only-of-type {\n",
              "        vertical-align: middle;\n",
              "    }\n",
              "\n",
              "    .dataframe tbody tr th {\n",
              "        vertical-align: top;\n",
              "    }\n",
              "\n",
              "    .dataframe thead th {\n",
              "        text-align: right;\n",
              "    }\n",
              "</style>\n",
              "<table border=\"1\" class=\"dataframe\">\n",
              "  <thead>\n",
              "    <tr style=\"text-align: right;\">\n",
              "      <th></th>\n",
              "      <th>ApplicantIncome</th>\n",
              "      <th>CoapplicantIncome</th>\n",
              "      <th>LoanAmount</th>\n",
              "      <th>Loan_Amount_Term</th>\n",
              "      <th>Credit_History</th>\n",
              "    </tr>\n",
              "  </thead>\n",
              "  <tbody>\n",
              "    <tr>\n",
              "      <th>count</th>\n",
              "      <td>307.000000</td>\n",
              "      <td>307.000000</td>\n",
              "      <td>307.000000</td>\n",
              "      <td>307.000000</td>\n",
              "      <td>307.000000</td>\n",
              "    </tr>\n",
              "    <tr>\n",
              "      <th>mean</th>\n",
              "      <td>4707.081433</td>\n",
              "      <td>1555.029316</td>\n",
              "      <td>136.092933</td>\n",
              "      <td>343.207449</td>\n",
              "      <td>0.837134</td>\n",
              "    </tr>\n",
              "    <tr>\n",
              "      <th>std</th>\n",
              "      <td>4914.699219</td>\n",
              "      <td>2339.457035</td>\n",
              "      <td>58.522981</td>\n",
              "      <td>64.928363</td>\n",
              "      <td>0.369847</td>\n",
              "    </tr>\n",
              "    <tr>\n",
              "      <th>min</th>\n",
              "      <td>0.000000</td>\n",
              "      <td>0.000000</td>\n",
              "      <td>28.000000</td>\n",
              "      <td>6.000000</td>\n",
              "      <td>0.000000</td>\n",
              "    </tr>\n",
              "    <tr>\n",
              "      <th>25%</th>\n",
              "      <td>2864.000000</td>\n",
              "      <td>0.000000</td>\n",
              "      <td>102.000000</td>\n",
              "      <td>360.000000</td>\n",
              "      <td>1.000000</td>\n",
              "    </tr>\n",
              "    <tr>\n",
              "      <th>50%</th>\n",
              "      <td>3791.000000</td>\n",
              "      <td>1000.000000</td>\n",
              "      <td>126.000000</td>\n",
              "      <td>360.000000</td>\n",
              "      <td>1.000000</td>\n",
              "    </tr>\n",
              "    <tr>\n",
              "      <th>75%</th>\n",
              "      <td>5020.500000</td>\n",
              "      <td>2430.500000</td>\n",
              "      <td>154.000000</td>\n",
              "      <td>360.000000</td>\n",
              "      <td>1.000000</td>\n",
              "    </tr>\n",
              "    <tr>\n",
              "      <th>max</th>\n",
              "      <td>72529.000000</td>\n",
              "      <td>24000.000000</td>\n",
              "      <td>460.000000</td>\n",
              "      <td>480.000000</td>\n",
              "      <td>1.000000</td>\n",
              "    </tr>\n",
              "  </tbody>\n",
              "</table>\n",
              "</div>\n",
              "      <button class=\"colab-df-convert\" onclick=\"convertToInteractive('df-bc488ebf-168d-49e4-a7f6-6e550dd187aa')\"\n",
              "              title=\"Convert this dataframe to an interactive table.\"\n",
              "              style=\"display:none;\">\n",
              "        \n",
              "  <svg xmlns=\"http://www.w3.org/2000/svg\" height=\"24px\"viewBox=\"0 0 24 24\"\n",
              "       width=\"24px\">\n",
              "    <path d=\"M0 0h24v24H0V0z\" fill=\"none\"/>\n",
              "    <path d=\"M18.56 5.44l.94 2.06.94-2.06 2.06-.94-2.06-.94-.94-2.06-.94 2.06-2.06.94zm-11 1L8.5 8.5l.94-2.06 2.06-.94-2.06-.94L8.5 2.5l-.94 2.06-2.06.94zm10 10l.94 2.06.94-2.06 2.06-.94-2.06-.94-.94-2.06-.94 2.06-2.06.94z\"/><path d=\"M17.41 7.96l-1.37-1.37c-.4-.4-.92-.59-1.43-.59-.52 0-1.04.2-1.43.59L10.3 9.45l-7.72 7.72c-.78.78-.78 2.05 0 2.83L4 21.41c.39.39.9.59 1.41.59.51 0 1.02-.2 1.41-.59l7.78-7.78 2.81-2.81c.8-.78.8-2.07 0-2.86zM5.41 20L4 18.59l7.72-7.72 1.47 1.35L5.41 20z\"/>\n",
              "  </svg>\n",
              "      </button>\n",
              "      \n",
              "  <style>\n",
              "    .colab-df-container {\n",
              "      display:flex;\n",
              "      flex-wrap:wrap;\n",
              "      gap: 12px;\n",
              "    }\n",
              "\n",
              "    .colab-df-convert {\n",
              "      background-color: #E8F0FE;\n",
              "      border: none;\n",
              "      border-radius: 50%;\n",
              "      cursor: pointer;\n",
              "      display: none;\n",
              "      fill: #1967D2;\n",
              "      height: 32px;\n",
              "      padding: 0 0 0 0;\n",
              "      width: 32px;\n",
              "    }\n",
              "\n",
              "    .colab-df-convert:hover {\n",
              "      background-color: #E2EBFA;\n",
              "      box-shadow: 0px 1px 2px rgba(60, 64, 67, 0.3), 0px 1px 3px 1px rgba(60, 64, 67, 0.15);\n",
              "      fill: #174EA6;\n",
              "    }\n",
              "\n",
              "    [theme=dark] .colab-df-convert {\n",
              "      background-color: #3B4455;\n",
              "      fill: #D2E3FC;\n",
              "    }\n",
              "\n",
              "    [theme=dark] .colab-df-convert:hover {\n",
              "      background-color: #434B5C;\n",
              "      box-shadow: 0px 1px 3px 1px rgba(0, 0, 0, 0.15);\n",
              "      filter: drop-shadow(0px 1px 2px rgba(0, 0, 0, 0.3));\n",
              "      fill: #FFFFFF;\n",
              "    }\n",
              "  </style>\n",
              "\n",
              "      <script>\n",
              "        const buttonEl =\n",
              "          document.querySelector('#df-bc488ebf-168d-49e4-a7f6-6e550dd187aa button.colab-df-convert');\n",
              "        buttonEl.style.display =\n",
              "          google.colab.kernel.accessAllowed ? 'block' : 'none';\n",
              "\n",
              "        async function convertToInteractive(key) {\n",
              "          const element = document.querySelector('#df-bc488ebf-168d-49e4-a7f6-6e550dd187aa');\n",
              "          const dataTable =\n",
              "            await google.colab.kernel.invokeFunction('convertToInteractive',\n",
              "                                                     [key], {});\n",
              "          if (!dataTable) return;\n",
              "\n",
              "          const docLinkHtml = 'Like what you see? Visit the ' +\n",
              "            '<a target=\"_blank\" href=https://colab.research.google.com/notebooks/data_table.ipynb>data table notebook</a>'\n",
              "            + ' to learn more about interactive tables.';\n",
              "          element.innerHTML = '';\n",
              "          dataTable['output_type'] = 'display_data';\n",
              "          await google.colab.output.renderOutput(dataTable, element);\n",
              "          const docLink = document.createElement('div');\n",
              "          docLink.innerHTML = docLinkHtml;\n",
              "          element.appendChild(docLink);\n",
              "        }\n",
              "      </script>\n",
              "    </div>\n",
              "  </div>\n",
              "  "
            ]
          },
          "metadata": {},
          "execution_count": 67
        }
      ],
      "source": [
        "x_test.describe()"
      ],
      "id": "1cc4ddea"
    },
    {
      "cell_type": "markdown",
      "metadata": {
        "id": "db008c0f"
      },
      "source": [
        "# ApplicantIncome"
      ],
      "id": "db008c0f"
    },
    {
      "cell_type": "code",
      "execution_count": null,
      "metadata": {
        "id": "424854eb",
        "outputId": "18e02b0a-8804-4467-e747-e78e2bd94713"
      },
      "outputs": [
        {
          "name": "stdout",
          "output_type": "stream",
          "text": [
            "7\n"
          ]
        }
      ],
      "source": [
        "outlier=[]\n",
        "mean,std=5439.227533,5949.632561\n",
        "for i in x_train['ApplicantIncome']:\n",
        "    x = (i-mean)/std\n",
        "    if x > 3 or x <-3:\n",
        "        outlier.append(i)\n",
        "print(len(outlier))"
      ],
      "id": "424854eb"
    },
    {
      "cell_type": "code",
      "execution_count": null,
      "metadata": {
        "id": "8d78074c",
        "outputId": "97180031-b211-4904-8cec-de6fa4e5c40f"
      },
      "outputs": [
        {
          "name": "stdout",
          "output_type": "stream",
          "text": [
            "3\n"
          ]
        }
      ],
      "source": [
        "outlier=[]\n",
        "mean,std=4707.081433,4914.699219\n",
        "for i in x_test['ApplicantIncome']:\n",
        "    x = (i-mean)/std\n",
        "    if x > 3 or x <-3:\n",
        "        outlier.append(i)\n",
        "print(len(outlier))"
      ],
      "id": "8d78074c"
    },
    {
      "cell_type": "markdown",
      "source": [
        "Outliers in ApplicantIncome that make sense."
      ],
      "metadata": {
        "id": "44x53UFysHDt"
      },
      "id": "44x53UFysHDt"
    },
    {
      "cell_type": "markdown",
      "metadata": {
        "id": "22fc7b72"
      },
      "source": [
        "# CoapplicantIncome"
      ],
      "id": "22fc7b72"
    },
    {
      "cell_type": "code",
      "execution_count": null,
      "metadata": {
        "id": "2688f20c",
        "outputId": "9b630db4-5f1c-4084-8260-3a70f518f01a"
      },
      "outputs": [
        {
          "name": "stdout",
          "output_type": "stream",
          "text": [
            "5\n"
          ]
        }
      ],
      "source": [
        "outlier=[]\n",
        "mean,std=1554.783786,2540.882028\n",
        "for i in x_train['CoapplicantIncome']:\n",
        "    x = (i-mean)/std\n",
        "    if x > 3 or x <-3:\n",
        "        outlier.append(i)\n",
        "print(len(outlier))"
      ],
      "id": "2688f20c"
    },
    {
      "cell_type": "code",
      "execution_count": null,
      "metadata": {
        "id": "5b03d834",
        "outputId": "c556703f-a9ae-4492-89ea-f3d376484dc6"
      },
      "outputs": [
        {
          "name": "stdout",
          "output_type": "stream",
          "text": [
            "4\n"
          ]
        }
      ],
      "source": [
        "outlier=[]\n",
        "mean,std=1555.029316,2339.457035\n",
        "for i in x_test['CoapplicantIncome']:\n",
        "    x = (i-mean)/std\n",
        "    if x > 3 or x <-3:\n",
        "        outlier.append(i)\n",
        "print(len(outlier))"
      ],
      "id": "5b03d834"
    },
    {
      "cell_type": "markdown",
      "source": [
        "Outliers in CoApplicantIncome that make sense."
      ],
      "metadata": {
        "id": "gSkhTGvCsKma"
      },
      "id": "gSkhTGvCsKma"
    },
    {
      "cell_type": "markdown",
      "metadata": {
        "id": "d7cbb7fc"
      },
      "source": [
        "# LoanAmount"
      ],
      "id": "d7cbb7fc"
    },
    {
      "cell_type": "code",
      "execution_count": null,
      "metadata": {
        "id": "717aae27",
        "outputId": "81ad8209-ba7c-4165-f227-ec3ec8e21e42"
      },
      "outputs": [
        {
          "name": "stdout",
          "output_type": "stream",
          "text": [
            "11\n"
          ]
        }
      ],
      "source": [
        "outlier=[]\n",
        "mean,std=145.789352,82.047179\n",
        "for i in x_train['LoanAmount']:\n",
        "    x = (i-mean)/std\n",
        "    if x > 3 or x <-3:\n",
        "        outlier.append(i)\n",
        "print(len(outlier))"
      ],
      "id": "717aae27"
    },
    {
      "cell_type": "code",
      "execution_count": null,
      "metadata": {
        "id": "668b3f70",
        "outputId": "f114ac9c-2468-48cb-8e45-65f56b42e3f8"
      },
      "outputs": [
        {
          "name": "stdout",
          "output_type": "stream",
          "text": [
            "5\n"
          ]
        }
      ],
      "source": [
        "outlier=[]\n",
        "mean,std=136.092933,58.522981\n",
        "for i in x_test['LoanAmount']:\n",
        "    x = (i-mean)/std\n",
        "    if x > 3 or x <-3:\n",
        "        outlier.append(i)\n",
        "print(len(outlier))"
      ],
      "id": "668b3f70"
    },
    {
      "cell_type": "markdown",
      "source": [
        "Outliers in loan amount that make sense."
      ],
      "metadata": {
        "id": "BksnMW3DsNwx"
      },
      "id": "BksnMW3DsNwx"
    },
    {
      "cell_type": "markdown",
      "metadata": {
        "id": "006db6d6"
      },
      "source": [
        "# Loan_Amount_Term"
      ],
      "id": "006db6d6"
    },
    {
      "cell_type": "code",
      "execution_count": null,
      "metadata": {
        "id": "be3ea38e",
        "outputId": "01a65242-a25a-4bb1-b350-5ec9739530ab"
      },
      "outputs": [
        {
          "name": "stdout",
          "output_type": "stream",
          "text": [
            "10\n"
          ]
        }
      ],
      "source": [
        "outlier=[]\n",
        "mean,std=343.207449,63.822482\n",
        "for i in x_train['Loan_Amount_Term']:\n",
        "    x = (i-mean)/std\n",
        "    if x > 3 or x <-3:\n",
        "        outlier.append(i)\n",
        "print(len(outlier))"
      ],
      "id": "be3ea38e"
    },
    {
      "cell_type": "code",
      "execution_count": null,
      "metadata": {
        "id": "ef06809f",
        "outputId": "ca1c01dd-c2b2-45e9-d369-74a1dcb61be3"
      },
      "outputs": [
        {
          "name": "stdout",
          "output_type": "stream",
          "text": [
            "6\n"
          ]
        }
      ],
      "source": [
        "outlier=[]\n",
        "mean,std=343.207449,64.928363\n",
        "for i in x_test['Loan_Amount_Term']:\n",
        "    x = (i-mean)/std\n",
        "    if x > 3 or x <-3:\n",
        "        outlier.append(i)\n",
        "print(len(outlier))"
      ],
      "id": "ef06809f"
    },
    {
      "cell_type": "markdown",
      "source": [
        "Minimal outliers only in Loan amount term"
      ],
      "metadata": {
        "id": "-wQ-EfHWsSlW"
      },
      "id": "-wQ-EfHWsSlW"
    },
    {
      "cell_type": "markdown",
      "metadata": {
        "id": "d37b5777"
      },
      "source": [
        "# Credit_History"
      ],
      "id": "d37b5777"
    },
    {
      "cell_type": "code",
      "execution_count": null,
      "metadata": {
        "id": "a4ad0d8f",
        "outputId": "f156973f-0808-450d-8b42-fc96b4b05c47"
      },
      "outputs": [
        {
          "name": "stdout",
          "output_type": "stream",
          "text": [
            "0\n"
          ]
        }
      ],
      "source": [
        "outlier=[]\n",
        "mean,std=0.841300,0.365746\n",
        "for i in x_train['Credit_History']:\n",
        "    x = (i-mean)/std\n",
        "    if x > 3 or x <-3:\n",
        "        outlier.append(i)\n",
        "print(len(outlier))"
      ],
      "id": "a4ad0d8f"
    },
    {
      "cell_type": "code",
      "execution_count": null,
      "metadata": {
        "id": "1fe37b52",
        "outputId": "e6b416a1-5f39-414b-a407-ea835b54bc66"
      },
      "outputs": [
        {
          "name": "stdout",
          "output_type": "stream",
          "text": [
            "0\n"
          ]
        }
      ],
      "source": [
        "outlier=[]\n",
        "mean,std=0.837134,0.369847\n",
        "for i in x_test['Credit_History']:\n",
        "    x = (i-mean)/std\n",
        "    if x > 3 or x <-3:\n",
        "        outlier.append(i)\n",
        "print(len(outlier))"
      ],
      "id": "1fe37b52"
    },
    {
      "cell_type": "markdown",
      "source": [
        "No outliers in Credit history "
      ],
      "metadata": {
        "id": "ZaUpqgcnsVey"
      },
      "id": "ZaUpqgcnsVey"
    },
    {
      "cell_type": "markdown",
      "metadata": {
        "id": "a50f9f1a"
      },
      "source": [
        "# CHECKING IS THERE ANY SPELLING MISTAKES."
      ],
      "id": "a50f9f1a"
    },
    {
      "cell_type": "code",
      "execution_count": null,
      "metadata": {
        "id": "34786330",
        "outputId": "a6f703a8-ff57-45a1-a232-10b633654086"
      },
      "outputs": [
        {
          "data": {
            "text/plain": [
              "(array(['Male', 'Female'], dtype=object),\n",
              " array(['Male', 'Female'], dtype=object))"
            ]
          },
          "execution_count": 97,
          "metadata": {},
          "output_type": "execute_result"
        }
      ],
      "source": [
        "x=x_train['Gender'].unique()\n",
        "y=x_test['Gender'].unique()\n",
        "x,y"
      ],
      "id": "34786330"
    },
    {
      "cell_type": "code",
      "execution_count": null,
      "metadata": {
        "id": "3694e569",
        "outputId": "a569ec92-50ba-4db8-d625-e5adbb9dccf2"
      },
      "outputs": [
        {
          "data": {
            "text/plain": [
              "(array(['No', 'Yes'], dtype=object), array(['Yes', 'No'], dtype=object))"
            ]
          },
          "execution_count": 98,
          "metadata": {},
          "output_type": "execute_result"
        }
      ],
      "source": [
        "x=x_train['Married'].unique()\n",
        "y=x_test['Married'].unique()\n",
        "x,y"
      ],
      "id": "3694e569"
    },
    {
      "cell_type": "code",
      "execution_count": null,
      "metadata": {
        "id": "03b7750d",
        "outputId": "68c7e20f-60d8-4aec-9960-97237b84a36e"
      },
      "outputs": [
        {
          "data": {
            "text/plain": [
              "(array(['0', '1', '2', '3+'], dtype=object),\n",
              " array(['0', '1', '2', '3+'], dtype=object))"
            ]
          },
          "execution_count": 99,
          "metadata": {},
          "output_type": "execute_result"
        }
      ],
      "source": [
        "x=x_train['Dependents'].unique()\n",
        "y=x_test['Dependents'].unique()\n",
        "x,y"
      ],
      "id": "03b7750d"
    },
    {
      "cell_type": "code",
      "execution_count": null,
      "metadata": {
        "id": "0187df18",
        "outputId": "189e9d41-9009-4fbb-ad2d-25415b29ea3c"
      },
      "outputs": [
        {
          "data": {
            "text/plain": [
              "(array(['Graduate', 'Not Graduate'], dtype=object),\n",
              " array(['Graduate', 'Not Graduate'], dtype=object))"
            ]
          },
          "execution_count": 100,
          "metadata": {},
          "output_type": "execute_result"
        }
      ],
      "source": [
        "x=x_train['Education'].unique()\n",
        "y=x_test['Education'].unique()\n",
        "x,y"
      ],
      "id": "0187df18"
    },
    {
      "cell_type": "code",
      "execution_count": null,
      "metadata": {
        "id": "41402e10",
        "outputId": "7aee62d1-c1bd-4c55-a716-d4e48e475a74"
      },
      "outputs": [
        {
          "data": {
            "text/plain": [
              "(array(['No', 'Yes'], dtype=object), array(['No', 'Yes'], dtype=object))"
            ]
          },
          "execution_count": 101,
          "metadata": {},
          "output_type": "execute_result"
        }
      ],
      "source": [
        "x=x_train['Self_Employed'].unique()\n",
        "y=x_test['Self_Employed'].unique()\n",
        "x,y"
      ],
      "id": "41402e10"
    },
    {
      "cell_type": "code",
      "execution_count": null,
      "metadata": {
        "id": "fa522022",
        "outputId": "adc7f78c-54e6-41ef-a45e-f9a10ffbb72a"
      },
      "outputs": [
        {
          "data": {
            "text/plain": [
              "(array(['Urban', 'Rural', 'Semiurban'], dtype=object),\n",
              " array(['Urban', 'Semiurban', 'Rural'], dtype=object))"
            ]
          },
          "execution_count": 102,
          "metadata": {},
          "output_type": "execute_result"
        }
      ],
      "source": [
        "x=x_train['Property_Area'].unique()\n",
        "y=x_test['Property_Area'].unique()\n",
        "x,y"
      ],
      "id": "fa522022"
    },
    {
      "cell_type": "code",
      "execution_count": null,
      "metadata": {
        "id": "70647616",
        "outputId": "2ba71e5f-1860-4567-8c4e-7b0ea8d24ff1"
      },
      "outputs": [
        {
          "data": {
            "text/plain": [
              "array(['Y', 'N'], dtype=object)"
            ]
          },
          "execution_count": 104,
          "metadata": {},
          "output_type": "execute_result"
        }
      ],
      "source": [
        "x=x_train['Loan_Status'].unique()\n",
        "x"
      ],
      "id": "70647616"
    },
    {
      "cell_type": "markdown",
      "source": [
        "There is no spelling mistakes over there."
      ],
      "metadata": {
        "id": "1uC4M0EhsYzr"
      },
      "id": "1uC4M0EhsYzr"
    },
    {
      "cell_type": "markdown",
      "metadata": {
        "id": "e113a5a1"
      },
      "source": [
        "# CHECKING FOR DTYPES "
      ],
      "id": "e113a5a1"
    },
    {
      "cell_type": "code",
      "execution_count": null,
      "metadata": {
        "id": "78f7d111",
        "outputId": "062b3604-9534-472b-f6a9-ab277771bbf5"
      },
      "outputs": [
        {
          "data": {
            "text/plain": [
              "Gender                object\n",
              "Married               object\n",
              "Dependents            object\n",
              "Education             object\n",
              "Self_Employed         object\n",
              "ApplicantIncome        int64\n",
              "CoapplicantIncome    float64\n",
              "LoanAmount           float64\n",
              "Loan_Amount_Term     float64\n",
              "Credit_History       float64\n",
              "Property_Area         object\n",
              "Loan_Status           object\n",
              "dtype: object"
            ]
          },
          "execution_count": 146,
          "metadata": {},
          "output_type": "execute_result"
        }
      ],
      "source": [
        "x_train.dtypes"
      ],
      "id": "78f7d111"
    },
    {
      "cell_type": "markdown",
      "source": [
        "Here we gonna change Credit_History into int otherwise all good over here."
      ],
      "metadata": {
        "id": "SrfVsQT_sc56"
      },
      "id": "SrfVsQT_sc56"
    },
    {
      "cell_type": "code",
      "execution_count": 111,
      "metadata": {
        "id": "fe67f46c",
        "outputId": "e2594410-1e1d-43f9-914e-689735cf67fa",
        "colab": {
          "base_uri": "https://localhost:8080/"
        }
      },
      "outputs": [
        {
          "output_type": "execute_result",
          "data": {
            "text/plain": [
              "Gender                object\n",
              "Married               object\n",
              "Dependents            object\n",
              "Education             object\n",
              "Self_Employed         object\n",
              "ApplicantIncome        int64\n",
              "CoapplicantIncome    float64\n",
              "LoanAmount           float64\n",
              "Loan_Amount_Term     float64\n",
              "Credit_History         int64\n",
              "Property_Area         object\n",
              "Loan_Status           object\n",
              "dtype: object"
            ]
          },
          "metadata": {},
          "execution_count": 111
        }
      ],
      "source": [
        "x_train.Credit_History = x_train.Credit_History.astype('int64')\n",
        "x_test.Credit_History = x_test.Credit_History.astype('int64')\n",
        "x_train.dtypes"
      ],
      "id": "fe67f46c"
    },
    {
      "cell_type": "code",
      "execution_count": 112,
      "metadata": {
        "id": "908b5c65",
        "outputId": "d54a73f0-84e0-4e49-ff8c-6735c1ac4242",
        "colab": {
          "base_uri": "https://localhost:8080/"
        }
      },
      "outputs": [
        {
          "output_type": "execute_result",
          "data": {
            "text/plain": [
              "Gender                object\n",
              "Married               object\n",
              "Dependents            object\n",
              "Education             object\n",
              "Self_Employed         object\n",
              "ApplicantIncome        int64\n",
              "CoapplicantIncome      int64\n",
              "LoanAmount           float64\n",
              "Loan_Amount_Term     float64\n",
              "Credit_History         int64\n",
              "Property_Area         object\n",
              "dtype: object"
            ]
          },
          "metadata": {},
          "execution_count": 112
        }
      ],
      "source": [
        "x_test.dtypes"
      ],
      "id": "908b5c65"
    },
    {
      "cell_type": "markdown",
      "metadata": {
        "id": "6481344a"
      },
      "source": [
        "# EDA"
      ],
      "id": "6481344a"
    },
    {
      "cell_type": "code",
      "execution_count": 69,
      "metadata": {
        "id": "e9a06536",
        "outputId": "12e75f52-7b08-40fd-ed04-e70a0822919c",
        "colab": {
          "base_uri": "https://localhost:8080/"
        }
      },
      "outputs": [
        {
          "output_type": "execute_result",
          "data": {
            "text/plain": [
              "Index(['Gender', 'Married', 'Dependents', 'Education', 'Self_Employed',\n",
              "       'ApplicantIncome', 'CoapplicantIncome', 'LoanAmount',\n",
              "       'Loan_Amount_Term', 'Credit_History', 'Property_Area', 'Loan_Status'],\n",
              "      dtype='object')"
            ]
          },
          "metadata": {},
          "execution_count": 69
        }
      ],
      "source": [
        "x_train.columns"
      ],
      "id": "e9a06536"
    },
    {
      "cell_type": "code",
      "execution_count": 70,
      "metadata": {
        "id": "a1bd775c",
        "outputId": "ff9aefb4-d1da-47b5-ecee-02bbea90eb3f",
        "colab": {
          "base_uri": "https://localhost:8080/"
        }
      },
      "outputs": [
        {
          "output_type": "execute_result",
          "data": {
            "text/plain": [
              "Index(['Gender', 'Married', 'Dependents', 'Education', 'Self_Employed',\n",
              "       'ApplicantIncome', 'CoapplicantIncome', 'LoanAmount',\n",
              "       'Loan_Amount_Term', 'Credit_History', 'Property_Area'],\n",
              "      dtype='object')"
            ]
          },
          "metadata": {},
          "execution_count": 70
        }
      ],
      "source": [
        "x_test.columns"
      ],
      "id": "a1bd775c"
    },
    {
      "cell_type": "markdown",
      "metadata": {
        "id": "2a7645f8"
      },
      "source": [
        "# FINDING FEATURE DISTRIBUTION"
      ],
      "id": "2a7645f8"
    },
    {
      "cell_type": "code",
      "execution_count": null,
      "metadata": {
        "id": "fe2390f7",
        "outputId": "0d56f2ab-2d9c-4d82-e5d1-ea24cc33434f"
      },
      "outputs": [
        {
          "name": "stderr",
          "output_type": "stream",
          "text": [
            "C:\\Users\\Parth\\anaconda3\\lib\\site-packages\\seaborn\\distributions.py:2619: FutureWarning: `distplot` is a deprecated function and will be removed in a future version. Please adapt your code to use either `displot` (a figure-level function with similar flexibility) or `histplot` (an axes-level function for histograms).\n",
            "  warnings.warn(msg, FutureWarning)\n",
            "C:\\Users\\Parth\\anaconda3\\lib\\site-packages\\seaborn\\distributions.py:2619: FutureWarning: `distplot` is a deprecated function and will be removed in a future version. Please adapt your code to use either `displot` (a figure-level function with similar flexibility) or `histplot` (an axes-level function for histograms).\n",
            "  warnings.warn(msg, FutureWarning)\n"
          ]
        },
        {
          "data": {
            "image/png": "[encoded data removed]",
            "text/plain": [
              "<Figure size 864x432 with 2 Axes>"
            ]
          },
          "metadata": {},
          "output_type": "display_data"
        }
      ],
      "source": [
        "plt.figure(figsize=(12,6))\n",
        "plt.subplot(1,2,1)\n",
        "sns.distplot(x_train.ApplicantIncome)\n",
        "plt.subplot(1,2,2)\n",
        "sns.distplot(x_train.CoapplicantIncome,color = 'darkblue')\n",
        "plt.tight_layout()"
      ],
      "id": "fe2390f7"
    },
    {
      "cell_type": "markdown",
      "source": [
        "It was look like the applicanticome mostly in between 0 to 20000 and in coapplicantincome 0 to 8000."
      ],
      "metadata": {
        "id": "xMF6oRExshAl"
      },
      "id": "xMF6oRExshAl"
    },
    {
      "cell_type": "code",
      "execution_count": null,
      "metadata": {
        "id": "3f52d040",
        "outputId": "e92e90ab-39a2-49e2-94bd-f294034b4ac0"
      },
      "outputs": [
        {
          "name": "stderr",
          "output_type": "stream",
          "text": [
            "C:\\Users\\Parth\\anaconda3\\lib\\site-packages\\seaborn\\distributions.py:2619: FutureWarning: `distplot` is a deprecated function and will be removed in a future version. Please adapt your code to use either `displot` (a figure-level function with similar flexibility) or `histplot` (an axes-level function for histograms).\n",
            "  warnings.warn(msg, FutureWarning)\n",
            "C:\\Users\\Parth\\anaconda3\\lib\\site-packages\\seaborn\\distributions.py:2619: FutureWarning: `distplot` is a deprecated function and will be removed in a future version. Please adapt your code to use either `displot` (a figure-level function with similar flexibility) or `histplot` (an axes-level function for histograms).\n",
            "  warnings.warn(msg, FutureWarning)\n",
            "C:\\Users\\Parth\\anaconda3\\lib\\site-packages\\seaborn\\distributions.py:2619: FutureWarning: `distplot` is a deprecated function and will be removed in a future version. Please adapt your code to use either `displot` (a figure-level function with similar flexibility) or `histplot` (an axes-level function for histograms).\n",
            "  warnings.warn(msg, FutureWarning)\n"
          ]
        },
        {
          "data": {
            "image/png": "[encoded data removed]",
            "text/plain": [
              "<Figure size 864x432 with 3 Axes>"
            ]
          },
          "metadata": {},
          "output_type": "display_data"
        }
      ],
      "source": [
        "plt.figure(figsize=(12,6))\n",
        "plt.subplot(1,3,1)\n",
        "sns.distplot(x_train.LoanAmount,color='green')\n",
        "plt.subplot(1,3,2)\n",
        "sns.distplot(x_train.Loan_Amount_Term,color='red')\n",
        "plt.subplot(1,3,3)\n",
        "sns.distplot(x_train.Credit_History,color='Blue')\n",
        "plt.tight_layout()"
      ],
      "id": "3f52d040"
    },
    {
      "cell_type": "markdown",
      "source": [
        "Loan amount was nearly like normal distribution.\n",
        "\n",
        "Loan amount term distributed in 200,310,370 and highly in 380.\n",
        "\n",
        "Credit history between 0 and 1."
      ],
      "metadata": {
        "id": "JhfUDUX1skSb"
      },
      "id": "JhfUDUX1skSb"
    },
    {
      "cell_type": "code",
      "execution_count": null,
      "metadata": {
        "id": "7e8aaa38",
        "outputId": "52efb8f8-832f-460b-9b50-060d4eb3157e"
      },
      "outputs": [
        {
          "data": {
            "image/png": "[encoded data removed]",
            "text/plain": [
              "<Figure size 864x1296 with 6 Axes>"
            ]
          },
          "metadata": {},
          "output_type": "display_data"
        },
        {
          "data": {
            "text/plain": [
              "<Figure size 432x288 with 0 Axes>"
            ]
          },
          "metadata": {},
          "output_type": "display_data"
        }
      ],
      "source": [
        "plt.figure(figsize=(12,18))\n",
        "\n",
        "A=x_train['Gender'].groupby(x_train['Gender']).count()\n",
        "B=x_train['Married'].groupby(x_train['Married']).count()\n",
        "C=x_train['Dependents'].groupby(x_train['Dependents']).count()\n",
        "D=x_train['Education'].groupby(x_train['Education']).count()\n",
        "E=x_train['Self_Employed'].groupby(x_train['Self_Employed']).count()\n",
        "F=x_train['Property_Area'].groupby(x_train['Property_Area']).count()\n",
        "\n",
        "plt.subplot(3,2,1)\n",
        "sns.barplot(x=A.index,y=A.values,data=x_train)\n",
        "plt.title('GENDER DISTRIBUTION')\n",
        "\n",
        "plt.subplot(3,2,2)\n",
        "sns.barplot(x=B.index,y=B.values,data=x_train)\n",
        "plt.title('MARRIED DISTRIBUTION')\n",
        "\n",
        "plt.subplot(3,2,3)\n",
        "sns.barplot(x=C.index,y=C.values,data=x_train)\n",
        "plt.title('DEPENDENTS DISTRIBUTION')\n",
        "\n",
        "plt.subplot(3,2,4)\n",
        "sns.barplot(x=D.index,y=D.values,data=x_train)\n",
        "plt.title('EDUCATION DISTRIBUTION')\n",
        "\n",
        "plt.subplot(3,2,5)\n",
        "sns.barplot(x=E.index,y=E.values,data=x_train)\n",
        "plt.title('SELF_EMPLOYED DISTRIBUTION')\n",
        "\n",
        "plt.subplot(3,2,6)\n",
        "sns.barplot(x=F.index,y=F.values,data=x_train)\n",
        "plt.title('PROPERTY_AREA DISTRIBUTION')\n",
        "\n",
        "plt.show()\n",
        "plt.tight_layout()"
      ],
      "id": "7e8aaa38"
    },
    {
      "cell_type": "markdown",
      "source": [
        "In gender the male dominates more distribution and in married yes dominates more distribution\n",
        "In dependents 0 distributed more and in education graduated distributed more.\n",
        "In self_employmed are less which means no distributed more and in property area semiurban distributed more."
      ],
      "metadata": {
        "id": "2MJJBYkYsoRF"
      },
      "id": "2MJJBYkYsoRF"
    },
    {
      "cell_type": "code",
      "execution_count": null,
      "metadata": {
        "id": "64010e8d",
        "outputId": "58f23fe9-e93c-4ca1-c1a4-fbaf4a142c76"
      },
      "outputs": [
        {
          "data": {
            "image/png": "[encoded data removed]",
            "text/plain": [
              "<Figure size 864x576 with 6 Axes>"
            ]
          },
          "metadata": {},
          "output_type": "display_data"
        }
      ],
      "source": [
        "plt.figure(figsize=(12,8))\n",
        "\n",
        "plt.subplot(321)\n",
        "df_source = x_train.Gender.value_counts()\n",
        "df_source = df_source.reset_index()\n",
        "plt.pie(df_source['Gender'],labels=df_source['index'],autopct='%1.1f%%')\n",
        "plt.title('Percent distribution of  Gender')\n",
        "plt.axis('equal')\n",
        "\n",
        "plt.subplot(322)\n",
        "df_source = x_train.Married.value_counts()\n",
        "df_source = df_source.reset_index()\n",
        "plt.pie(df_source['Married'],labels=df_source['index'],autopct='%1.1f%%')\n",
        "plt.title('Percent distribution of  Married')\n",
        "plt.axis('equal')\n",
        "\n",
        "plt.subplot(323)\n",
        "df_source = x_train.Dependents.value_counts()\n",
        "df_source = df_source.reset_index()\n",
        "plt.pie(df_source['Dependents'],labels=df_source['index'],autopct='%1.1f%%')\n",
        "plt.title('Percent distribution of  Dependents')\n",
        "plt.axis('equal')\n",
        "    \n",
        "plt.subplot(324)\n",
        "df_source = x_train.Education.value_counts()\n",
        "df_source = df_source.reset_index()\n",
        "plt.pie(df_source['Education'],labels=df_source['index'],autopct='%1.1f%%')\n",
        "plt.title('Percent distribution of  Education')\n",
        "plt.axis('equal')\n",
        "    \n",
        "plt.subplot(325)\n",
        "df_source = x_train.Self_Employed.value_counts()\n",
        "df_source = df_source.reset_index()\n",
        "plt.pie(df_source['Self_Employed'],labels=df_source['index'],autopct='%1.1f%%')\n",
        "plt.title('Percent distribution of  Self_Employed')\n",
        "plt.axis('equal')\n",
        "\n",
        "plt.subplot(326)\n",
        "df_source = x_train.Property_Area.value_counts()\n",
        "df_source = df_source.reset_index()\n",
        "plt.pie(df_source['Property_Area'],labels=df_source['index'],autopct='%1.1f%%')\n",
        "plt.title('Percent distribution of  Property_Area')\n",
        "plt.axis('equal')\n",
        "    \n",
        "plt.tight_layout()\n",
        "plt.show()"
      ],
      "id": "64010e8d"
    },
    {
      "cell_type": "markdown",
      "metadata": {
        "id": "c4b61f59"
      },
      "source": [
        "# FEATURE VS TARGET"
      ],
      "id": "c4b61f59"
    },
    {
      "cell_type": "code",
      "execution_count": null,
      "metadata": {
        "id": "6791744c"
      },
      "outputs": [],
      "source": [
        "# Loan_Status is a target variable"
      ],
      "id": "6791744c"
    },
    {
      "cell_type": "code",
      "execution_count": 114,
      "metadata": {
        "id": "0a512ef0"
      },
      "outputs": [],
      "source": [
        "x_train['Loan_Status']=x_train['Loan_Status'].map({'Y':1,'N':0})"
      ],
      "id": "0a512ef0"
    },
    {
      "cell_type": "code",
      "execution_count": 115,
      "metadata": {
        "id": "bd8f407f",
        "outputId": "74766054-9024-4f0b-ab3f-bb0eae497e50",
        "colab": {
          "base_uri": "https://localhost:8080/"
        }
      },
      "outputs": [
        {
          "output_type": "execute_result",
          "data": {
            "text/plain": [
              "array([1, 0])"
            ]
          },
          "metadata": {},
          "execution_count": 115
        }
      ],
      "source": [
        "x_train['Loan_Status'].unique()"
      ],
      "id": "bd8f407f"
    },
    {
      "cell_type": "code",
      "execution_count": null,
      "metadata": {
        "id": "a6a6563c",
        "outputId": "33d0f069-9a1e-43d2-b109-27c8c8796007"
      },
      "outputs": [
        {
          "data": {
            "text/plain": [
              "Index(['Gender', 'Married', 'Dependents', 'Education', 'Self_Employed',\n",
              "       'ApplicantIncome', 'CoapplicantIncome', 'LoanAmount',\n",
              "       'Loan_Amount_Term', 'Credit_History', 'Property_Area', 'Loan_Status'],\n",
              "      dtype='object')"
            ]
          },
          "execution_count": 112,
          "metadata": {},
          "output_type": "execute_result"
        }
      ],
      "source": [
        "x_train.columns"
      ],
      "id": "a6a6563c"
    },
    {
      "cell_type": "code",
      "execution_count": null,
      "metadata": {
        "id": "de902b63",
        "outputId": "11b2279d-440d-4ffc-97fa-ce9c2b3ef0a3"
      },
      "outputs": [
        {
          "data": {
            "image/png": "[encoded data removed]",
            "text/plain": [
              "<Figure size 1152x1296 with 6 Axes>"
            ]
          },
          "metadata": {},
          "output_type": "display_data"
        },
        {
          "data": {
            "text/plain": [
              "<Figure size 432x288 with 0 Axes>"
            ]
          },
          "metadata": {},
          "output_type": "display_data"
        }
      ],
      "source": [
        "plt.figure(figsize=(16,18))\n",
        "\n",
        "plt.subplot(231)\n",
        "sns.barplot(x='Gender',y='Loan_Status',data=x_train)\n",
        "plt.title('Gender vs Loanstatus')\n",
        "\n",
        "plt.subplot(232)\n",
        "sns.barplot(x='Married',y='Loan_Status',data=x_train)\n",
        "plt.title('Married vs Loanstatus')\n",
        "\n",
        "plt.subplot(233)\n",
        "sns.barplot(x='Dependents',y='Loan_Status',data=x_train)\n",
        "plt.title('Dependents vs Loanstatus')\n",
        "\n",
        "plt.subplot(234)\n",
        "sns.barplot(x='Education',y='Loan_Status',data=x_train)\n",
        "plt.title('Education vs Loanstatus')\n",
        "\n",
        "plt.subplot(235)\n",
        "sns.barplot(x='Self_Employed',y='Loan_Status',data=x_train)\n",
        "plt.title('Self_Employed vs Loanstatus')\n",
        "\n",
        "plt.subplot(236)\n",
        "sns.barplot(x='Property_Area',y='Loan_Status',data=x_train)\n",
        "plt.title('Property_Area vs Loanstatus')\n",
        "\n",
        "plt.show()\n",
        "plt.tight_layout()"
      ],
      "id": "de902b63"
    },
    {
      "cell_type": "code",
      "execution_count": null,
      "metadata": {
        "id": "3064e29b",
        "outputId": "8261296c-108c-42b2-a301-29725cd1dc0b"
      },
      "outputs": [
        {
          "data": {
            "image/png": "[encoded data removed]",
            "text/plain": [
              "<Figure size 1080x576 with 2 Axes>"
            ]
          },
          "metadata": {},
          "output_type": "display_data"
        },
        {
          "name": "stdout",
          "output_type": "stream",
          "text": [
            "\n",
            "                  ApplicantIncome  Loan_Status\n",
            "ApplicantIncome         1.000000    -0.015526\n",
            "Loan_Status            -0.015526     1.000000\n",
            "\n",
            "                    CoapplicantIncome  Loan_Status\n",
            "CoapplicantIncome           1.000000    -0.040646\n",
            "Loan_Status                -0.040646     1.000000\n"
          ]
        },
        {
          "data": {
            "text/plain": [
              "<Figure size 432x288 with 0 Axes>"
            ]
          },
          "metadata": {},
          "output_type": "display_data"
        }
      ],
      "source": [
        "plt.figure(figsize=(15,8))\n",
        "\n",
        "plt.subplot(121)\n",
        "sns.regplot(x=x_train['Loan_Status'],y=x_train['ApplicantIncome'],scatter_kws={'color':'indigo'},line_kws={'color':'red'})\n",
        "\n",
        "plt.subplot(122)\n",
        "sns.regplot(x=x_train['Loan_Status'],y=x_train['CoapplicantIncome'],scatter_kws={'color':'indigo'},line_kws={'color':'red'})\n",
        "\n",
        "plt.show()\n",
        "plt.tight_layout()\n",
        "print('\\n',x_train[['ApplicantIncome','Loan_Status']].corr())\n",
        "print('\\n',x_train[['CoapplicantIncome','Loan_Status']].corr())"
      ],
      "id": "3064e29b"
    },
    {
      "cell_type": "code",
      "execution_count": 28,
      "metadata": {
        "id": "0d243060",
        "outputId": "64d55dc0-cd18-465c-fc3c-4f3ea7e879b0",
        "colab": {
          "base_uri": "https://localhost:8080/",
          "height": 656
        }
      },
      "outputs": [
        {
          "output_type": "display_data",
          "data": {
            "text/plain": [
              "<Figure size 1080x576 with 2 Axes>"
            ],
            "image/png": "[encoded data removed]"
          },
          "metadata": {
            "needs_background": "light"
          }
        },
        {
          "output_type": "stream",
          "name": "stdout",
          "text": [
            "\n",
            "              LoanAmount  Loan_Status\n",
            "LoanAmount     1.000000    -0.040986\n",
            "Loan_Status   -0.040986     1.000000\n",
            "\n",
            "                   Loan_Amount_Term  Loan_Status\n",
            "Loan_Amount_Term          1.000000    -0.002297\n",
            "Loan_Status              -0.002297     1.000000\n"
          ]
        },
        {
          "output_type": "display_data",
          "data": {
            "text/plain": [
              "<Figure size 432x288 with 0 Axes>"
            ]
          },
          "metadata": {}
        }
      ],
      "source": [
        "plt.figure(figsize=(15,8))\n",
        "\n",
        "plt.subplot(121)\n",
        "sns.regplot(x=x_train['Loan_Status'],y=x_train['LoanAmount'],scatter_kws={'color':'indigo'},line_kws={'color':'red'})\n",
        "\n",
        "plt.subplot(122)\n",
        "sns.regplot(x=x_train['Loan_Status'],y=x_train['Loan_Amount_Term'],scatter_kws={'color':'indigo'},line_kws={'color':'red'})\n",
        "\n",
        "plt.show()\n",
        "plt.tight_layout()\n",
        "print('\\n',x_train[['LoanAmount','Loan_Status']].corr())\n",
        "print('\\n',x_train[['Loan_Amount_Term','Loan_Status']].corr())"
      ],
      "id": "0d243060"
    },
    {
      "cell_type": "code",
      "execution_count": 29,
      "metadata": {
        "id": "400fe533",
        "outputId": "dd3f7252-dc53-4a91-ad33-02a1954dcc2c",
        "colab": {
          "base_uri": "https://localhost:8080/",
          "height": 349
        }
      },
      "outputs": [
        {
          "output_type": "stream",
          "name": "stdout",
          "text": [
            "\n",
            "                 Credit_History  Loan_Status\n",
            "Credit_History        1.000000     0.550272\n",
            "Loan_Status           0.550272     1.000000\n"
          ]
        },
        {
          "output_type": "display_data",
          "data": {
            "text/plain": [
              "<Figure size 432x288 with 1 Axes>"
            ],
            "image/png": "[encoded data removed]"
          },
          "metadata": {
            "needs_background": "light"
          }
        }
      ],
      "source": [
        "sns.regplot(x=x_train['Loan_Status'],y=x_train['Credit_History'],scatter_kws={'color':'indigo'},line_kws={'color':'red'})\n",
        "print('\\n',x_train[['Credit_History','Loan_Status']].corr())"
      ],
      "id": "400fe533"
    },
    {
      "cell_type": "code",
      "execution_count": 27,
      "metadata": {
        "id": "v-fzbz6GdTjO",
        "colab": {
          "base_uri": "https://localhost:8080/",
          "height": 531
        },
        "outputId": "cc128222-39c6-419f-c750-95143475efe5"
      },
      "outputs": [
        {
          "output_type": "display_data",
          "data": {
            "text/plain": [
              "<Figure size 1080x576 with 2 Axes>"
            ],
            "image/png": "[encoded data removed]"
          },
          "metadata": {
            "needs_background": "light"
          }
        },
        {
          "output_type": "display_data",
          "data": {
            "text/plain": [
              "<Figure size 432x288 with 0 Axes>"
            ]
          },
          "metadata": {}
        }
      ],
      "source": [
        "plt.figure(figsize=(15,8))\n",
        "\n",
        "plt.subplot(121)\n",
        "sns.histplot(data=x_train, x=\"LoanAmount\", hue=\"Loan_Status\", multiple=\"stack\")\n",
        "plt.title('LOANAMOUNT VS LOANSTATUS')\n",
        "\n",
        "plt.subplot(122)\n",
        "sns.histplot(data=x_train, x=\"Loan_Amount_Term\", hue=\"Loan_Status\", multiple=\"stack\")\n",
        "plt.title('LOANAMOUNT_TERM VS LOANSTATUS')\n",
        "plt.show()\n",
        "plt.tight_layout()\n"
      ],
      "id": "v-fzbz6GdTjO"
    },
    {
      "cell_type": "code",
      "source": [
        "plt.figure(figsize=(15,8))\n",
        "\n",
        "plt.subplot(121)\n",
        "sns.histplot(data=x_train, x=\"ApplicantIncome\", hue=\"Loan_Status\", multiple=\"stack\")\n",
        "plt.title('APPLICANTINCOME VS LOANSTATUS')\n",
        "\n",
        "plt.subplot(122)\n",
        "sns.histplot(data=x_train, x=\"ApplicantIncome\", hue=\"Loan_Status\", multiple=\"stack\")\n",
        "plt.title('CO-APPLICANTINCOME VS LOANSTATUS')\n",
        "plt.show()\n",
        "plt.tight_layout()\n"
      ],
      "metadata": {
        "colab": {
          "base_uri": "https://localhost:8080/",
          "height": 530
        },
        "id": "I8ibB4PIw2oC",
        "outputId": "a4b65529-2921-42c1-831d-a98e9d57873d"
      },
      "id": "I8ibB4PIw2oC",
      "execution_count": 30,
      "outputs": [
        {
          "output_type": "display_data",
          "data": {
            "text/plain": [
              "<Figure size 1080x576 with 2 Axes>"
            ],
            "image/png": "[encoded data removed]"
          },
          "metadata": {
            "needs_background": "light"
          }
        },
        {
          "output_type": "display_data",
          "data": {
            "text/plain": [
              "<Figure size 432x288 with 0 Axes>"
            ]
          },
          "metadata": {}
        }
      ]
    },
    {
      "cell_type": "code",
      "source": [
        "sns.histplot(data=x_train, x=\"Credit_History\", hue=\"Loan_Status\", multiple=\"stack\")\n",
        "plt.title('CREDIT_HISTORY VS LOANSTATUS')\n",
        "plt.show()\n",
        "plt.tight_layout()"
      ],
      "metadata": {
        "colab": {
          "base_uri": "https://localhost:8080/",
          "height": 313
        },
        "id": "qpd0-rTYxGq_",
        "outputId": "5ad3aceb-c771-41ff-9780-647e6be3c299"
      },
      "id": "qpd0-rTYxGq_",
      "execution_count": 31,
      "outputs": [
        {
          "output_type": "display_data",
          "data": {
            "text/plain": [
              "<Figure size 432x288 with 1 Axes>"
            ],
            "image/png": "[encoded data removed]"
          },
          "metadata": {
            "needs_background": "light"
          }
        },
        {
          "output_type": "display_data",
          "data": {
            "text/plain": [
              "<Figure size 432x288 with 0 Axes>"
            ]
          },
          "metadata": {}
        }
      ]
    },
    {
      "cell_type": "markdown",
      "metadata": {
        "id": "042e0643"
      },
      "source": [
        "### COMPARING TARGET VARIABLE(Loan status) & LOAN AMOUNT WITH VARIOUS FEATURES "
      ],
      "id": "042e0643"
    },
    {
      "cell_type": "code",
      "execution_count": null,
      "metadata": {
        "id": "b70dc761",
        "outputId": "cc4e5f4b-87d3-43ac-b044-f8a5373e8e86"
      },
      "outputs": [
        {
          "data": {
            "text/plain": [
              "<Figure size 720x720 with 0 Axes>"
            ]
          },
          "metadata": {},
          "output_type": "display_data"
        },
        {
          "data": {
            "image/png": "[encoded data removed]",
            "text/plain": [
              "<Figure size 720x576 with 1 Axes>"
            ]
          },
          "metadata": {},
          "output_type": "display_data"
        }
      ],
      "source": [
        "import seaborn as sns\n",
        "plt.figure(figsize=(10, 8))\n",
        "sns.scatterplot(x='ApplicantIncome', y='LoanAmount', hue='Loan_Status', data=x_train, s=200)\n",
        "plt.title(\"ApplicantIncome vs LoanAmount vs admitted\", y=1.015, fontsize=20)\n",
        "plt.xlabel(\"ApplicantIncome\", labelpad=13)\n",
        "plt.ylabel(\"LoanAmount\", labelpad=13)\n",
        "ax = plt.gca()"
      ],
      "id": "b70dc761"
    },
    {
      "cell_type": "markdown",
      "source": [
        "There is an relation b/w applicant income and loan amount.\n",
        "\n",
        "The loan amount depends on the applicant income.\n",
        "\n",
        "In some places applicant income is low but loan amount is high in that case they are not admitted."
      ],
      "metadata": {
        "id": "A2lSKb0ys7GW"
      },
      "id": "A2lSKb0ys7GW"
    },
    {
      "cell_type": "code",
      "execution_count": null,
      "metadata": {
        "id": "30380a17",
        "outputId": "f2e34147-9560-4426-f183-d46e42030118"
      },
      "outputs": [
        {
          "data": {
            "image/png": "[encoded data removed]",
            "text/plain": [
              "<Figure size 720x576 with 1 Axes>"
            ]
          },
          "metadata": {},
          "output_type": "display_data"
        }
      ],
      "source": [
        "import seaborn as sns\n",
        "plt.figure(figsize=(10, 8))\n",
        "sns.scatterplot(x='CoapplicantIncome', y='LoanAmount', hue='Loan_Status', data=x_train, s=200)\n",
        "plt.title(\"CoapplicantIncome vs LoanAmount vs admitted\", y=1.015, fontsize=20)\n",
        "plt.xlabel(\"CoapplicantIncome\", labelpad=13)\n",
        "plt.ylabel(\"LoanAmount\", labelpad=13)\n",
        "ax = plt.gca()"
      ],
      "id": "30380a17"
    },
    {
      "cell_type": "code",
      "execution_count": null,
      "metadata": {
        "id": "caee9477"
      },
      "outputs": [],
      "source": [
        ""
      ],
      "id": "caee9477"
    },
    {
      "cell_type": "code",
      "execution_count": null,
      "metadata": {
        "id": "e40ac2b4",
        "outputId": "3a491c0a-3463-447b-e4a7-4b5906164f2e"
      },
      "outputs": [
        {
          "data": {
            "image/png": "[encoded data removed]",
            "text/plain": [
              "<Figure size 720x576 with 1 Axes>"
            ]
          },
          "metadata": {},
          "output_type": "display_data"
        }
      ],
      "source": [
        "import seaborn as sns\n",
        "plt.figure(figsize=(10, 8))\n",
        "sns.scatterplot(x='Self_Employed', y='LoanAmount', hue='Loan_Status', data=x_train, s=200)\n",
        "plt.title(\"Self_Employed vs LoanAmount vs admitted\", y=1.015, fontsize=20)\n",
        "plt.xlabel(\"Self_Employed\", labelpad=13)\n",
        "plt.ylabel(\"LoanAmount\", labelpad=13)\n",
        "ax = plt.gca()"
      ],
      "id": "e40ac2b4"
    },
    {
      "cell_type": "markdown",
      "source": [
        "Self employed peoples admitted for loan is low in range.\n",
        "\n",
        "The non-selfemployed one can recieve more loan amount than self employed one."
      ],
      "metadata": {
        "id": "v6WC8mALs-qD"
      },
      "id": "v6WC8mALs-qD"
    },
    {
      "cell_type": "code",
      "execution_count": null,
      "metadata": {
        "id": "e830c7bd"
      },
      "outputs": [],
      "source": [
        ""
      ],
      "id": "e830c7bd"
    },
    {
      "cell_type": "markdown",
      "metadata": {
        "id": "f9ccad25"
      },
      "source": [
        "# ENCODE THE DATA"
      ],
      "id": "f9ccad25"
    },
    {
      "cell_type": "code",
      "execution_count": 37,
      "metadata": {
        "id": "b1f74773",
        "outputId": "9770d12e-3f2a-4056-851d-336a3aa53988",
        "colab": {
          "base_uri": "https://localhost:8080/"
        }
      },
      "outputs": [
        {
          "output_type": "execute_result",
          "data": {
            "text/plain": [
              "Gender                object\n",
              "Married               object\n",
              "Dependents            object\n",
              "Education             object\n",
              "Self_Employed         object\n",
              "ApplicantIncome        int64\n",
              "CoapplicantIncome    float64\n",
              "LoanAmount           float64\n",
              "Loan_Amount_Term     float64\n",
              "Credit_History         int64\n",
              "Property_Area         object\n",
              "Loan_Status            int64\n",
              "dtype: object"
            ]
          },
          "metadata": {},
          "execution_count": 37
        }
      ],
      "source": [
        "x_train.dtypes"
      ],
      "id": "b1f74773"
    },
    {
      "cell_type": "code",
      "execution_count": null,
      "metadata": {
        "id": "8069681c",
        "outputId": "46211259-be3f-44ae-f869-9b87378f3133"
      },
      "outputs": [
        {
          "data": {
            "text/plain": [
              "Gender                object\n",
              "Married               object\n",
              "Dependents            object\n",
              "Education             object\n",
              "Self_Employed         object\n",
              "ApplicantIncome        int64\n",
              "CoapplicantIncome      int64\n",
              "LoanAmount           float64\n",
              "Loan_Amount_Term     float64\n",
              "Credit_History       float64\n",
              "Property_Area         object\n",
              "dtype: object"
            ]
          },
          "execution_count": 41,
          "metadata": {},
          "output_type": "execute_result"
        }
      ],
      "source": [
        "x_test.dtypes"
      ],
      "id": "8069681c"
    },
    {
      "cell_type": "code",
      "execution_count": 116,
      "metadata": {
        "id": "8a83344d",
        "outputId": "33d53988-cc3b-4241-ab3c-5635dd5c3885",
        "colab": {
          "base_uri": "https://localhost:8080/",
          "height": 270
        }
      },
      "outputs": [
        {
          "output_type": "execute_result",
          "data": {
            "text/plain": [
              "   Gender  Married  Dependents  Education  Self_Employed  ApplicantIncome  \\\n",
              "0       0        0           2          1              0             5849   \n",
              "1       0        1           0          1              0             4583   \n",
              "2       0        1           2          1              1             3000   \n",
              "3       0        1           2          0              0             2583   \n",
              "4       0        0           2          1              0             6000   \n",
              "\n",
              "   CoapplicantIncome  LoanAmount  Loan_Amount_Term  Credit_History  \\\n",
              "0                0.0  146.412162             360.0               1   \n",
              "1             1508.0  128.000000             360.0               1   \n",
              "2                0.0   66.000000             360.0               1   \n",
              "3             2358.0  120.000000             360.0               1   \n",
              "4                0.0  141.000000             360.0               1   \n",
              "\n",
              "   Property_Area  Loan_Status  \n",
              "0              1            1  \n",
              "1              0            0  \n",
              "2              1            1  \n",
              "3              1            1  \n",
              "4              1            1  "
            ],
            "text/html": [
              "\n",
              "  <div id=\"df-d42b76f6-ea9e-4b80-9b7c-a7318262e1e1\">\n",
              "    <div class=\"colab-df-container\">\n",
              "      <div>\n",
              "<style scoped>\n",
              "    .dataframe tbody tr th:only-of-type {\n",
              "        vertical-align: middle;\n",
              "    }\n",
              "\n",
              "    .dataframe tbody tr th {\n",
              "        vertical-align: top;\n",
              "    }\n",
              "\n",
              "    .dataframe thead th {\n",
              "        text-align: right;\n",
              "    }\n",
              "</style>\n",
              "<table border=\"1\" class=\"dataframe\">\n",
              "  <thead>\n",
              "    <tr style=\"text-align: right;\">\n",
              "      <th></th>\n",
              "      <th>Gender</th>\n",
              "      <th>Married</th>\n",
              "      <th>Dependents</th>\n",
              "      <th>Education</th>\n",
              "      <th>Self_Employed</th>\n",
              "      <th>ApplicantIncome</th>\n",
              "      <th>CoapplicantIncome</th>\n",
              "      <th>LoanAmount</th>\n",
              "      <th>Loan_Amount_Term</th>\n",
              "      <th>Credit_History</th>\n",
              "      <th>Property_Area</th>\n",
              "      <th>Loan_Status</th>\n",
              "    </tr>\n",
              "  </thead>\n",
              "  <tbody>\n",
              "    <tr>\n",
              "      <th>0</th>\n",
              "      <td>0</td>\n",
              "      <td>0</td>\n",
              "      <td>2</td>\n",
              "      <td>1</td>\n",
              "      <td>0</td>\n",
              "      <td>5849</td>\n",
              "      <td>0.0</td>\n",
              "      <td>146.412162</td>\n",
              "      <td>360.0</td>\n",
              "      <td>1</td>\n",
              "      <td>1</td>\n",
              "      <td>1</td>\n",
              "    </tr>\n",
              "    <tr>\n",
              "      <th>1</th>\n",
              "      <td>0</td>\n",
              "      <td>1</td>\n",
              "      <td>0</td>\n",
              "      <td>1</td>\n",
              "      <td>0</td>\n",
              "      <td>4583</td>\n",
              "      <td>1508.0</td>\n",
              "      <td>128.000000</td>\n",
              "      <td>360.0</td>\n",
              "      <td>1</td>\n",
              "      <td>0</td>\n",
              "      <td>0</td>\n",
              "    </tr>\n",
              "    <tr>\n",
              "      <th>2</th>\n",
              "      <td>0</td>\n",
              "      <td>1</td>\n",
              "      <td>2</td>\n",
              "      <td>1</td>\n",
              "      <td>1</td>\n",
              "      <td>3000</td>\n",
              "      <td>0.0</td>\n",
              "      <td>66.000000</td>\n",
              "      <td>360.0</td>\n",
              "      <td>1</td>\n",
              "      <td>1</td>\n",
              "      <td>1</td>\n",
              "    </tr>\n",
              "    <tr>\n",
              "      <th>3</th>\n",
              "      <td>0</td>\n",
              "      <td>1</td>\n",
              "      <td>2</td>\n",
              "      <td>0</td>\n",
              "      <td>0</td>\n",
              "      <td>2583</td>\n",
              "      <td>2358.0</td>\n",
              "      <td>120.000000</td>\n",
              "      <td>360.0</td>\n",
              "      <td>1</td>\n",
              "      <td>1</td>\n",
              "      <td>1</td>\n",
              "    </tr>\n",
              "    <tr>\n",
              "      <th>4</th>\n",
              "      <td>0</td>\n",
              "      <td>0</td>\n",
              "      <td>2</td>\n",
              "      <td>1</td>\n",
              "      <td>0</td>\n",
              "      <td>6000</td>\n",
              "      <td>0.0</td>\n",
              "      <td>141.000000</td>\n",
              "      <td>360.0</td>\n",
              "      <td>1</td>\n",
              "      <td>1</td>\n",
              "      <td>1</td>\n",
              "    </tr>\n",
              "  </tbody>\n",
              "</table>\n",
              "</div>\n",
              "      <button class=\"colab-df-convert\" onclick=\"convertToInteractive('df-d42b76f6-ea9e-4b80-9b7c-a7318262e1e1')\"\n",
              "              title=\"Convert this dataframe to an interactive table.\"\n",
              "              style=\"display:none;\">\n",
              "        \n",
              "  <svg xmlns=\"http://www.w3.org/2000/svg\" height=\"24px\"viewBox=\"0 0 24 24\"\n",
              "       width=\"24px\">\n",
              "    <path d=\"M0 0h24v24H0V0z\" fill=\"none\"/>\n",
              "    <path d=\"M18.56 5.44l.94 2.06.94-2.06 2.06-.94-2.06-.94-.94-2.06-.94 2.06-2.06.94zm-11 1L8.5 8.5l.94-2.06 2.06-.94-2.06-.94L8.5 2.5l-.94 2.06-2.06.94zm10 10l.94 2.06.94-2.06 2.06-.94-2.06-.94-.94-2.06-.94 2.06-2.06.94z\"/><path d=\"M17.41 7.96l-1.37-1.37c-.4-.4-.92-.59-1.43-.59-.52 0-1.04.2-1.43.59L10.3 9.45l-7.72 7.72c-.78.78-.78 2.05 0 2.83L4 21.41c.39.39.9.59 1.41.59.51 0 1.02-.2 1.41-.59l7.78-7.78 2.81-2.81c.8-.78.8-2.07 0-2.86zM5.41 20L4 18.59l7.72-7.72 1.47 1.35L5.41 20z\"/>\n",
              "  </svg>\n",
              "      </button>\n",
              "      \n",
              "  <style>\n",
              "    .colab-df-container {\n",
              "      display:flex;\n",
              "      flex-wrap:wrap;\n",
              "      gap: 12px;\n",
              "    }\n",
              "\n",
              "    .colab-df-convert {\n",
              "      background-color: #E8F0FE;\n",
              "      border: none;\n",
              "      border-radius: 50%;\n",
              "      cursor: pointer;\n",
              "      display: none;\n",
              "      fill: #1967D2;\n",
              "      height: 32px;\n",
              "      padding: 0 0 0 0;\n",
              "      width: 32px;\n",
              "    }\n",
              "\n",
              "    .colab-df-convert:hover {\n",
              "      background-color: #E2EBFA;\n",
              "      box-shadow: 0px 1px 2px rgba(60, 64, 67, 0.3), 0px 1px 3px 1px rgba(60, 64, 67, 0.15);\n",
              "      fill: #174EA6;\n",
              "    }\n",
              "\n",
              "    [theme=dark] .colab-df-convert {\n",
              "      background-color: #3B4455;\n",
              "      fill: #D2E3FC;\n",
              "    }\n",
              "\n",
              "    [theme=dark] .colab-df-convert:hover {\n",
              "      background-color: #434B5C;\n",
              "      box-shadow: 0px 1px 3px 1px rgba(0, 0, 0, 0.15);\n",
              "      filter: drop-shadow(0px 1px 2px rgba(0, 0, 0, 0.3));\n",
              "      fill: #FFFFFF;\n",
              "    }\n",
              "  </style>\n",
              "\n",
              "      <script>\n",
              "        const buttonEl =\n",
              "          document.querySelector('#df-d42b76f6-ea9e-4b80-9b7c-a7318262e1e1 button.colab-df-convert');\n",
              "        buttonEl.style.display =\n",
              "          google.colab.kernel.accessAllowed ? 'block' : 'none';\n",
              "\n",
              "        async function convertToInteractive(key) {\n",
              "          const element = document.querySelector('#df-d42b76f6-ea9e-4b80-9b7c-a7318262e1e1');\n",
              "          const dataTable =\n",
              "            await google.colab.kernel.invokeFunction('convertToInteractive',\n",
              "                                                     [key], {});\n",
              "          if (!dataTable) return;\n",
              "\n",
              "          const docLinkHtml = 'Like what you see? Visit the ' +\n",
              "            '<a target=\"_blank\" href=https://colab.research.google.com/notebooks/data_table.ipynb>data table notebook</a>'\n",
              "            + ' to learn more about interactive tables.';\n",
              "          element.innerHTML = '';\n",
              "          dataTable['output_type'] = 'display_data';\n",
              "          await google.colab.output.renderOutput(dataTable, element);\n",
              "          const docLink = document.createElement('div');\n",
              "          docLink.innerHTML = docLinkHtml;\n",
              "          element.appendChild(docLink);\n",
              "        }\n",
              "      </script>\n",
              "    </div>\n",
              "  </div>\n",
              "  "
            ]
          },
          "metadata": {},
          "execution_count": 116
        }
      ],
      "source": [
        "x_train['Gender']=x_train['Gender'].map({'Male':0,'Female':1})\n",
        "x_train['Married']=x_train['Married'].map({'No':0,'Yes':1})\n",
        "x_train['Dependents']=x_train['Dependents'].map({'0':2,'2':3,'1':0,\"3+\":1})\n",
        "x_train['Education']=x_train['Education'].map({'Not Graduate':0,'Graduate':1})\n",
        "x_train['Self_Employed']=x_train['Self_Employed'].map({'No':0,'Yes':1})\n",
        "x_train['Property_Area']=x_train['Property_Area'].map({'Rural':0,'Urban':1,'Semiurban':2})\n",
        "x_train.head()"
      ],
      "id": "8a83344d"
    },
    {
      "cell_type": "code",
      "execution_count": 117,
      "metadata": {
        "id": "fbe9aefc",
        "outputId": "d24e33fa-6b98-428b-9927-9cb9165fbf06",
        "colab": {
          "base_uri": "https://localhost:8080/",
          "height": 270
        }
      },
      "outputs": [
        {
          "output_type": "execute_result",
          "data": {
            "text/plain": [
              "   Gender  Married  Dependents  Education  Self_Employed  ApplicantIncome  \\\n",
              "0       0        1           2          1              0             5720   \n",
              "1       0        1           0          1              0             3076   \n",
              "2       0        1           3          1              0             5000   \n",
              "4       0        0           2          0              0             3276   \n",
              "5       0        1           2          0              1             2165   \n",
              "\n",
              "   CoapplicantIncome  LoanAmount  Loan_Amount_Term  Credit_History  \\\n",
              "0                  0       110.0             360.0               1   \n",
              "1               1500       126.0             360.0               1   \n",
              "2               1800       208.0             360.0               1   \n",
              "4                  0        78.0             360.0               1   \n",
              "5               3422       152.0             360.0               1   \n",
              "\n",
              "   Property_Area  \n",
              "0              1  \n",
              "1              1  \n",
              "2              1  \n",
              "4              1  \n",
              "5              1  "
            ],
            "text/html": [
              "\n",
              "  <div id=\"df-cb01b771-b976-4051-90bb-0f3f93f392a3\">\n",
              "    <div class=\"colab-df-container\">\n",
              "      <div>\n",
              "<style scoped>\n",
              "    .dataframe tbody tr th:only-of-type {\n",
              "        vertical-align: middle;\n",
              "    }\n",
              "\n",
              "    .dataframe tbody tr th {\n",
              "        vertical-align: top;\n",
              "    }\n",
              "\n",
              "    .dataframe thead th {\n",
              "        text-align: right;\n",
              "    }\n",
              "</style>\n",
              "<table border=\"1\" class=\"dataframe\">\n",
              "  <thead>\n",
              "    <tr style=\"text-align: right;\">\n",
              "      <th></th>\n",
              "      <th>Gender</th>\n",
              "      <th>Married</th>\n",
              "      <th>Dependents</th>\n",
              "      <th>Education</th>\n",
              "      <th>Self_Employed</th>\n",
              "      <th>ApplicantIncome</th>\n",
              "      <th>CoapplicantIncome</th>\n",
              "      <th>LoanAmount</th>\n",
              "      <th>Loan_Amount_Term</th>\n",
              "      <th>Credit_History</th>\n",
              "      <th>Property_Area</th>\n",
              "    </tr>\n",
              "  </thead>\n",
              "  <tbody>\n",
              "    <tr>\n",
              "      <th>0</th>\n",
              "      <td>0</td>\n",
              "      <td>1</td>\n",
              "      <td>2</td>\n",
              "      <td>1</td>\n",
              "      <td>0</td>\n",
              "      <td>5720</td>\n",
              "      <td>0</td>\n",
              "      <td>110.0</td>\n",
              "      <td>360.0</td>\n",
              "      <td>1</td>\n",
              "      <td>1</td>\n",
              "    </tr>\n",
              "    <tr>\n",
              "      <th>1</th>\n",
              "      <td>0</td>\n",
              "      <td>1</td>\n",
              "      <td>0</td>\n",
              "      <td>1</td>\n",
              "      <td>0</td>\n",
              "      <td>3076</td>\n",
              "      <td>1500</td>\n",
              "      <td>126.0</td>\n",
              "      <td>360.0</td>\n",
              "      <td>1</td>\n",
              "      <td>1</td>\n",
              "    </tr>\n",
              "    <tr>\n",
              "      <th>2</th>\n",
              "      <td>0</td>\n",
              "      <td>1</td>\n",
              "      <td>3</td>\n",
              "      <td>1</td>\n",
              "      <td>0</td>\n",
              "      <td>5000</td>\n",
              "      <td>1800</td>\n",
              "      <td>208.0</td>\n",
              "      <td>360.0</td>\n",
              "      <td>1</td>\n",
              "      <td>1</td>\n",
              "    </tr>\n",
              "    <tr>\n",
              "      <th>4</th>\n",
              "      <td>0</td>\n",
              "      <td>0</td>\n",
              "      <td>2</td>\n",
              "      <td>0</td>\n",
              "      <td>0</td>\n",
              "      <td>3276</td>\n",
              "      <td>0</td>\n",
              "      <td>78.0</td>\n",
              "      <td>360.0</td>\n",
              "      <td>1</td>\n",
              "      <td>1</td>\n",
              "    </tr>\n",
              "    <tr>\n",
              "      <th>5</th>\n",
              "      <td>0</td>\n",
              "      <td>1</td>\n",
              "      <td>2</td>\n",
              "      <td>0</td>\n",
              "      <td>1</td>\n",
              "      <td>2165</td>\n",
              "      <td>3422</td>\n",
              "      <td>152.0</td>\n",
              "      <td>360.0</td>\n",
              "      <td>1</td>\n",
              "      <td>1</td>\n",
              "    </tr>\n",
              "  </tbody>\n",
              "</table>\n",
              "</div>\n",
              "      <button class=\"colab-df-convert\" onclick=\"convertToInteractive('df-cb01b771-b976-4051-90bb-0f3f93f392a3')\"\n",
              "              title=\"Convert this dataframe to an interactive table.\"\n",
              "              style=\"display:none;\">\n",
              "        \n",
              "  <svg xmlns=\"http://www.w3.org/2000/svg\" height=\"24px\"viewBox=\"0 0 24 24\"\n",
              "       width=\"24px\">\n",
              "    <path d=\"M0 0h24v24H0V0z\" fill=\"none\"/>\n",
              "    <path d=\"M18.56 5.44l.94 2.06.94-2.06 2.06-.94-2.06-.94-.94-2.06-.94 2.06-2.06.94zm-11 1L8.5 8.5l.94-2.06 2.06-.94-2.06-.94L8.5 2.5l-.94 2.06-2.06.94zm10 10l.94 2.06.94-2.06 2.06-.94-2.06-.94-.94-2.06-.94 2.06-2.06.94z\"/><path d=\"M17.41 7.96l-1.37-1.37c-.4-.4-.92-.59-1.43-.59-.52 0-1.04.2-1.43.59L10.3 9.45l-7.72 7.72c-.78.78-.78 2.05 0 2.83L4 21.41c.39.39.9.59 1.41.59.51 0 1.02-.2 1.41-.59l7.78-7.78 2.81-2.81c.8-.78.8-2.07 0-2.86zM5.41 20L4 18.59l7.72-7.72 1.47 1.35L5.41 20z\"/>\n",
              "  </svg>\n",
              "      </button>\n",
              "      \n",
              "  <style>\n",
              "    .colab-df-container {\n",
              "      display:flex;\n",
              "      flex-wrap:wrap;\n",
              "      gap: 12px;\n",
              "    }\n",
              "\n",
              "    .colab-df-convert {\n",
              "      background-color: #E8F0FE;\n",
              "      border: none;\n",
              "      border-radius: 50%;\n",
              "      cursor: pointer;\n",
              "      display: none;\n",
              "      fill: #1967D2;\n",
              "      height: 32px;\n",
              "      padding: 0 0 0 0;\n",
              "      width: 32px;\n",
              "    }\n",
              "\n",
              "    .colab-df-convert:hover {\n",
              "      background-color: #E2EBFA;\n",
              "      box-shadow: 0px 1px 2px rgba(60, 64, 67, 0.3), 0px 1px 3px 1px rgba(60, 64, 67, 0.15);\n",
              "      fill: #174EA6;\n",
              "    }\n",
              "\n",
              "    [theme=dark] .colab-df-convert {\n",
              "      background-color: #3B4455;\n",
              "      fill: #D2E3FC;\n",
              "    }\n",
              "\n",
              "    [theme=dark] .colab-df-convert:hover {\n",
              "      background-color: #434B5C;\n",
              "      box-shadow: 0px 1px 3px 1px rgba(0, 0, 0, 0.15);\n",
              "      filter: drop-shadow(0px 1px 2px rgba(0, 0, 0, 0.3));\n",
              "      fill: #FFFFFF;\n",
              "    }\n",
              "  </style>\n",
              "\n",
              "      <script>\n",
              "        const buttonEl =\n",
              "          document.querySelector('#df-cb01b771-b976-4051-90bb-0f3f93f392a3 button.colab-df-convert');\n",
              "        buttonEl.style.display =\n",
              "          google.colab.kernel.accessAllowed ? 'block' : 'none';\n",
              "\n",
              "        async function convertToInteractive(key) {\n",
              "          const element = document.querySelector('#df-cb01b771-b976-4051-90bb-0f3f93f392a3');\n",
              "          const dataTable =\n",
              "            await google.colab.kernel.invokeFunction('convertToInteractive',\n",
              "                                                     [key], {});\n",
              "          if (!dataTable) return;\n",
              "\n",
              "          const docLinkHtml = 'Like what you see? Visit the ' +\n",
              "            '<a target=\"_blank\" href=https://colab.research.google.com/notebooks/data_table.ipynb>data table notebook</a>'\n",
              "            + ' to learn more about interactive tables.';\n",
              "          element.innerHTML = '';\n",
              "          dataTable['output_type'] = 'display_data';\n",
              "          await google.colab.output.renderOutput(dataTable, element);\n",
              "          const docLink = document.createElement('div');\n",
              "          docLink.innerHTML = docLinkHtml;\n",
              "          element.appendChild(docLink);\n",
              "        }\n",
              "      </script>\n",
              "    </div>\n",
              "  </div>\n",
              "  "
            ]
          },
          "metadata": {},
          "execution_count": 117
        }
      ],
      "source": [
        "x_test['Gender']=x_test['Gender'].map({'Male':0,'Female':1})\n",
        "x_test['Married']=x_test['Married'].map({'No':0,'Yes':1})\n",
        "x_test['Dependents']=x_test['Dependents'].map({'0':2,'2':3,'1':0,\"3+\":1})\n",
        "x_test['Education']=x_test['Education'].map({'Not Graduate':0,'Graduate':1})\n",
        "x_test['Self_Employed']=x_test['Self_Employed'].map({'No':0,'Yes':1})\n",
        "x_test['Property_Area']=x_test['Property_Area'].map({'Rural':0,'Urban':1,'Semiurban':2})\n",
        "x_test.head()"
      ],
      "id": "fbe9aefc"
    },
    {
      "cell_type": "code",
      "execution_count": 119,
      "metadata": {
        "id": "7f0fe970",
        "colab": {
          "base_uri": "https://localhost:8080/"
        },
        "outputId": "53c896d4-16ab-471e-82e0-ee80a79becca"
      },
      "outputs": [
        {
          "output_type": "execute_result",
          "data": {
            "text/plain": [
              "Gender               0\n",
              "Married              0\n",
              "Dependents           0\n",
              "Education            0\n",
              "Self_Employed        0\n",
              "ApplicantIncome      0\n",
              "CoapplicantIncome    0\n",
              "LoanAmount           0\n",
              "Loan_Amount_Term     0\n",
              "Credit_History       0\n",
              "Property_Area        0\n",
              "Loan_Status          0\n",
              "dtype: int64"
            ]
          },
          "metadata": {},
          "execution_count": 119
        }
      ],
      "source": [
        "x_train.isnull().sum()"
      ],
      "id": "7f0fe970"
    },
    {
      "cell_type": "markdown",
      "metadata": {
        "id": "ff1d227d"
      },
      "source": [
        "# SPLIT THE DATA"
      ],
      "id": "ff1d227d"
    },
    {
      "cell_type": "code",
      "execution_count": null,
      "metadata": {
        "id": "826cad87",
        "outputId": "31b367b1-ff70-445e-a28f-87bcdae1dfb2"
      },
      "outputs": [
        {
          "data": {
            "text/plain": [
              "Index(['Gender', 'Married', 'Dependents', 'Education', 'Self_Employed',\n",
              "       'ApplicantIncome', 'CoapplicantIncome', 'LoanAmount',\n",
              "       'Loan_Amount_Term', 'Credit_History', 'Property_Area', 'Loan_Status'],\n",
              "      dtype='object')"
            ]
          },
          "execution_count": 70,
          "metadata": {},
          "output_type": "execute_result"
        }
      ],
      "source": [
        "x_train.columns"
      ],
      "id": "826cad87"
    },
    {
      "cell_type": "code",
      "execution_count": 120,
      "metadata": {
        "id": "3f7c50c2"
      },
      "outputs": [],
      "source": [
        "X = x_train[['Gender', 'Married', 'Dependents', 'Education', 'Self_Employed',\n",
        "       'ApplicantIncome', 'CoapplicantIncome', 'LoanAmount',\n",
        "       'Loan_Amount_Term', 'Credit_History', 'Property_Area']].values\n",
        "y = x_train['Loan_Status'].values\n",
        "X_train,X_test,y_train,y_test = train_test_split(X,y,test_size=0.25,random_state=0)"
      ],
      "id": "3f7c50c2"
    },
    {
      "cell_type": "code",
      "execution_count": 35,
      "metadata": {
        "id": "b2e5e520",
        "outputId": "2bdcaf57-d6f8-4f37-cbb6-34fccc344f15",
        "colab": {
          "base_uri": "https://localhost:8080/"
        }
      },
      "outputs": [
        {
          "output_type": "execute_result",
          "data": {
            "text/plain": [
              "array([1, 0, 0, 1, 1, 0, 1, 1, 1, 1, 1, 0, 1, 1, 0, 1, 1, 1, 0, 1, 1, 0,\n",
              "       0, 1, 1, 0, 1, 0, 0, 0, 1, 0, 1, 1, 1, 1, 1, 1, 1, 1, 1, 0, 0, 1,\n",
              "       1, 1, 1, 1, 1, 1, 1, 1, 1, 1, 1, 1, 1, 1, 1, 1, 0, 0, 1, 1, 1, 1,\n",
              "       1, 0, 1, 1, 0, 1, 1, 1, 1, 1, 1, 0, 0, 1, 1, 1, 1, 1, 1, 0, 1, 0,\n",
              "       1, 1, 1, 0, 1, 0, 0, 0, 0, 1, 1, 1, 1, 0, 0, 1, 0, 1, 0, 0, 1, 0,\n",
              "       1, 0, 1, 0, 1, 1, 0, 0, 0, 1, 1, 1, 1, 0, 1, 1, 1, 0, 1, 1, 1, 1,\n",
              "       1, 1, 0, 1, 1, 1, 1, 1, 1, 1, 1, 1, 0, 1, 1, 1, 1, 0, 1, 1, 1, 1,\n",
              "       0, 1, 1, 0, 0, 1, 1, 0, 1, 1, 1, 1, 0, 1, 1, 0, 1, 1, 1, 1, 0, 1,\n",
              "       0, 0, 0, 0, 0, 1, 0, 0, 0, 1, 0, 1, 1, 1, 1, 1, 1, 1, 1, 1, 0, 1,\n",
              "       0, 0, 1, 1, 1, 0, 0, 1, 0, 1, 0, 1, 0, 1, 1, 1, 1, 0, 0, 0, 0, 0,\n",
              "       1, 1, 0, 1, 1, 1, 1, 1, 1, 1, 0, 1, 1, 1, 1, 1, 0, 1, 1, 1, 0, 1,\n",
              "       1, 0, 1, 0, 1, 1, 0, 0, 1, 0, 1, 1, 0, 0, 1, 0, 0, 1, 1, 1, 1, 1,\n",
              "       0, 1, 1, 0, 1, 0, 1, 1, 1, 1, 1, 0, 0, 1, 1, 0, 1, 0, 1, 1, 1, 0,\n",
              "       0, 1, 1, 1, 1, 1, 0, 0, 1, 0, 0, 1, 1, 1, 0, 0, 0, 1, 1, 1, 1, 1,\n",
              "       1, 1, 0, 1, 0, 0, 1, 1, 0, 0, 0, 1, 0, 0, 1, 0, 1, 1, 0, 1, 1, 1,\n",
              "       1, 1, 1, 1, 1, 0, 1, 0, 0, 1, 0, 0, 0, 1, 1, 1, 1, 1, 1, 1, 1, 0,\n",
              "       1, 1, 1, 0, 1, 0, 0, 1, 1, 0, 1, 1, 1, 0, 1, 1, 0, 1, 1, 1, 0, 1,\n",
              "       1, 1, 1, 0, 0, 1, 1, 1, 1, 1, 0, 0, 1, 0, 1, 0, 0, 1])"
            ]
          },
          "metadata": {},
          "execution_count": 35
        }
      ],
      "source": [
        "y_train"
      ],
      "id": "b2e5e520"
    },
    {
      "cell_type": "markdown",
      "metadata": {
        "id": "9d93eb49"
      },
      "source": [
        "# MODEL"
      ],
      "id": "9d93eb49"
    },
    {
      "cell_type": "code",
      "execution_count": null,
      "metadata": {
        "id": "425524fc",
        "outputId": "6ee1aea9-b9bc-4cba-c81a-0ddeb0921f5c"
      },
      "outputs": [
        {
          "data": {
            "text/plain": [
              "array([0, 1, 1, 1, 1, 1, 1, 1, 1, 1, 1, 0, 1, 1, 1, 1, 1, 1, 1, 1, 0, 1,\n",
              "       0, 1, 1, 1, 1, 1, 1, 1, 1, 1, 1, 1, 1, 1, 1, 1, 1, 1, 1, 1, 1, 1,\n",
              "       1, 1, 1, 1, 1, 1, 1, 1, 1, 1, 1, 1, 1, 1, 1, 1, 1, 0, 1, 1, 1, 0,\n",
              "       1, 1, 1, 1, 1, 1, 1, 0, 0, 0, 1, 1, 1, 1, 1, 1, 1, 1, 1, 1, 1, 1,\n",
              "       1, 1, 1, 1, 1, 1, 1, 1, 0, 0, 1, 1, 1, 1, 1, 0, 1, 1, 0, 1, 1, 1,\n",
              "       1, 1, 1, 1, 1, 1, 1, 1, 1, 1, 0, 1, 1, 1, 1, 1, 0, 1, 1, 1, 1],\n",
              "      dtype=int64)"
            ]
          },
          "execution_count": 111,
          "metadata": {},
          "output_type": "execute_result"
        }
      ],
      "source": [
        "logistic_regression= LogisticRegression()\n",
        "logistic_regression.fit(X_train,y_train) \n",
        "y_pred=logistic_regression.predict(X_test)\n",
        "\n",
        "y_pred"
      ],
      "id": "425524fc"
    },
    {
      "cell_type": "code",
      "execution_count": null,
      "metadata": {
        "id": "e6f04965",
        "outputId": "8d079d8e-5f51-4211-fd75-c896cda9877d"
      },
      "outputs": [
        {
          "data": {
            "text/plain": [
              "array([[-3.21698383e-01,  5.85009282e-01, -2.83756621e-01,\n",
              "         3.43645997e-01,  1.61227716e-01,  1.47310365e-05,\n",
              "        -4.64371438e-05, -3.09890183e-03, -4.87893366e-03,\n",
              "         2.70810638e+00,  2.67863417e-01]])"
            ]
          },
          "execution_count": 143,
          "metadata": {},
          "output_type": "execute_result"
        }
      ],
      "source": [
        "a=logistic_regression.coef_\n",
        "a"
      ],
      "id": "e6f04965"
    },
    {
      "cell_type": "code",
      "execution_count": null,
      "metadata": {
        "id": "777fefa2",
        "outputId": "22f0c23b-4619-4e49-f9c6-df6daff64adc"
      },
      "outputs": [
        {
          "data": {
            "text/html": [
              "<div>\n",
              "<style scoped>\n",
              "    .dataframe tbody tr th:only-of-type {\n",
              "        vertical-align: middle;\n",
              "    }\n",
              "\n",
              "    .dataframe tbody tr th {\n",
              "        vertical-align: top;\n",
              "    }\n",
              "\n",
              "    .dataframe thead th {\n",
              "        text-align: right;\n",
              "    }\n",
              "</style>\n",
              "<table border=\"1\" class=\"dataframe\">\n",
              "  <thead>\n",
              "    <tr style=\"text-align: right;\">\n",
              "      <th></th>\n",
              "      <th>Coefficient</th>\n",
              "    </tr>\n",
              "  </thead>\n",
              "  <tbody>\n",
              "    <tr>\n",
              "      <th>Gender</th>\n",
              "      <td>-0.321698</td>\n",
              "    </tr>\n",
              "    <tr>\n",
              "      <th>Married</th>\n",
              "      <td>0.585009</td>\n",
              "    </tr>\n",
              "    <tr>\n",
              "      <th>Dependents</th>\n",
              "      <td>-0.283757</td>\n",
              "    </tr>\n",
              "    <tr>\n",
              "      <th>Education</th>\n",
              "      <td>0.343646</td>\n",
              "    </tr>\n",
              "    <tr>\n",
              "      <th>Self_Employed</th>\n",
              "      <td>0.161228</td>\n",
              "    </tr>\n",
              "    <tr>\n",
              "      <th>ApplicantIncome</th>\n",
              "      <td>0.000015</td>\n",
              "    </tr>\n",
              "    <tr>\n",
              "      <th>CoapplicantIncome</th>\n",
              "      <td>-0.000046</td>\n",
              "    </tr>\n",
              "    <tr>\n",
              "      <th>LoanAmount</th>\n",
              "      <td>-0.003099</td>\n",
              "    </tr>\n",
              "    <tr>\n",
              "      <th>Loan_Amount_Term</th>\n",
              "      <td>-0.004879</td>\n",
              "    </tr>\n",
              "    <tr>\n",
              "      <th>Credit_History</th>\n",
              "      <td>2.708106</td>\n",
              "    </tr>\n",
              "    <tr>\n",
              "      <th>Property_Area</th>\n",
              "      <td>0.267863</td>\n",
              "    </tr>\n",
              "  </tbody>\n",
              "</table>\n",
              "</div>"
            ],
            "text/plain": [
              "                   Coefficient\n",
              "Gender               -0.321698\n",
              "Married               0.585009\n",
              "Dependents           -0.283757\n",
              "Education             0.343646\n",
              "Self_Employed         0.161228\n",
              "ApplicantIncome       0.000015\n",
              "CoapplicantIncome    -0.000046\n",
              "LoanAmount           -0.003099\n",
              "Loan_Amount_Term     -0.004879\n",
              "Credit_History        2.708106\n",
              "Property_Area         0.267863"
            ]
          },
          "execution_count": 145,
          "metadata": {},
          "output_type": "execute_result"
        }
      ],
      "source": [
        "data={'Coefficient':[-3.21698383e-01,  5.85009282e-01, -2.83756621e-01,\n",
        "         3.43645997e-01,  1.61227716e-01,  1.47310365e-05,\n",
        "        -4.64371438e-05, -3.09890183e-03, -4.87893366e-03,\n",
        "         2.70810638e+00,  2.67863417e-01]}\n",
        "coeff_df = pd.DataFrame(data=data,index=['Gender', 'Married', 'Dependents', 'Education', 'Self_Employed','ApplicantIncome', 'CoapplicantIncome', \n",
        "         'LoanAmount','Loan_Amount_Term', 'Credit_History', 'Property_Area'])\n",
        "coeff_df"
      ],
      "id": "777fefa2"
    },
    {
      "cell_type": "code",
      "execution_count": null,
      "metadata": {
        "id": "f4142a8e",
        "outputId": "6bf5c17a-d9ad-4bfc-8187-059a0f7cab9f"
      },
      "outputs": [
        {
          "data": {
            "text/plain": [
              "array([0.00303979])"
            ]
          },
          "execution_count": 113,
          "metadata": {},
          "output_type": "execute_result"
        }
      ],
      "source": [
        "logistic_regression.intercept_"
      ],
      "id": "f4142a8e"
    },
    {
      "cell_type": "markdown",
      "metadata": {
        "id": "65023e86"
      },
      "source": [
        "## TOP 5 IMPORTANT FEATURES\n",
        "1. Credit history\n",
        "2. Married\n",
        "3. Education\n",
        "4. Property area\n",
        "5. Self employed"
      ],
      "id": "65023e86"
    },
    {
      "cell_type": "markdown",
      "metadata": {
        "id": "a0aee88e"
      },
      "source": [
        "### Equation\n",
        "**y= 1/ (1+ e^-mx-c)**\n",
        "\n",
        "\n",
        "**Loan_status**\n",
        "    =1/(1+e^(-(-0.321698383)*Gender - 0.585009282*Married - (-0.283756621)*Dependents   \n",
        "    -0.343645997*(Education) - 0.161227716*Self_employed -0.147310365*Applicantincome\n",
        "    -(-0.464371438)*coapplicantincome -(-0.309890183)*loanamount\n",
        "    -(-4.87893366)*loanamountterm \n",
        "    -(2.70810638)*credit_history -0.267863417property_area - (0.00303979)))"
      ],
      "id": "a0aee88e"
    },
    {
      "cell_type": "code",
      "execution_count": null,
      "metadata": {
        "id": "c589ac55",
        "outputId": "66e98c87-25b5-4336-9c7a-7dc6cdeddfd7"
      },
      "outputs": [
        {
          "data": {
            "text/html": [
              "<div>\n",
              "<style scoped>\n",
              "    .dataframe tbody tr th:only-of-type {\n",
              "        vertical-align: middle;\n",
              "    }\n",
              "\n",
              "    .dataframe tbody tr th {\n",
              "        vertical-align: top;\n",
              "    }\n",
              "\n",
              "    .dataframe thead th {\n",
              "        text-align: right;\n",
              "    }\n",
              "</style>\n",
              "<table border=\"1\" class=\"dataframe\">\n",
              "  <thead>\n",
              "    <tr style=\"text-align: right;\">\n",
              "      <th></th>\n",
              "      <th>Actual</th>\n",
              "      <th>Predicted</th>\n",
              "    </tr>\n",
              "  </thead>\n",
              "  <tbody>\n",
              "    <tr>\n",
              "      <th>0</th>\n",
              "      <td>0</td>\n",
              "      <td>0</td>\n",
              "    </tr>\n",
              "    <tr>\n",
              "      <th>1</th>\n",
              "      <td>1</td>\n",
              "      <td>1</td>\n",
              "    </tr>\n",
              "    <tr>\n",
              "      <th>2</th>\n",
              "      <td>1</td>\n",
              "      <td>1</td>\n",
              "    </tr>\n",
              "    <tr>\n",
              "      <th>3</th>\n",
              "      <td>0</td>\n",
              "      <td>1</td>\n",
              "    </tr>\n",
              "    <tr>\n",
              "      <th>4</th>\n",
              "      <td>1</td>\n",
              "      <td>1</td>\n",
              "    </tr>\n",
              "    <tr>\n",
              "      <th>...</th>\n",
              "      <td>...</td>\n",
              "      <td>...</td>\n",
              "    </tr>\n",
              "    <tr>\n",
              "      <th>126</th>\n",
              "      <td>0</td>\n",
              "      <td>0</td>\n",
              "    </tr>\n",
              "    <tr>\n",
              "      <th>127</th>\n",
              "      <td>1</td>\n",
              "      <td>1</td>\n",
              "    </tr>\n",
              "    <tr>\n",
              "      <th>128</th>\n",
              "      <td>1</td>\n",
              "      <td>1</td>\n",
              "    </tr>\n",
              "    <tr>\n",
              "      <th>129</th>\n",
              "      <td>1</td>\n",
              "      <td>1</td>\n",
              "    </tr>\n",
              "    <tr>\n",
              "      <th>130</th>\n",
              "      <td>1</td>\n",
              "      <td>1</td>\n",
              "    </tr>\n",
              "  </tbody>\n",
              "</table>\n",
              "<p>131 rows × 2 columns</p>\n",
              "</div>"
            ],
            "text/plain": [
              "     Actual  Predicted\n",
              "0         0          0\n",
              "1         1          1\n",
              "2         1          1\n",
              "3         0          1\n",
              "4         1          1\n",
              "..      ...        ...\n",
              "126       0          0\n",
              "127       1          1\n",
              "128       1          1\n",
              "129       1          1\n",
              "130       1          1\n",
              "\n",
              "[131 rows x 2 columns]"
            ]
          },
          "execution_count": 92,
          "metadata": {},
          "output_type": "execute_result"
        }
      ],
      "source": [
        "y_test=y_test\n",
        "y_pred = logistic_regression.predict(X_test)\n",
        "df = pd.DataFrame({'Actual': y_test, 'Predicted': y_pred})\n",
        "df"
      ],
      "id": "c589ac55"
    },
    {
      "cell_type": "code",
      "execution_count": null,
      "metadata": {
        "id": "7cbee07d",
        "outputId": "779427ed-68c5-4b7f-e48d-d8946dd23c33"
      },
      "outputs": [
        {
          "data": {
            "text/plain": [
              "<AxesSubplot:xlabel='Predicted', ylabel='Actual'>"
            ]
          },
          "execution_count": 82,
          "metadata": {},
          "output_type": "execute_result"
        },
        {
          "data": {
            "image/png": "[encoded data removed]",
            "text/plain": [
              "<Figure size 432x288 with 2 Axes>"
            ]
          },
          "metadata": {},
          "output_type": "display_data"
        }
      ],
      "source": [
        "confusion_matrix = pd.crosstab(y_test, y_pred, rownames=['Actual'], colnames=['Predicted'])\n",
        "sns.heatmap(confusion_matrix, annot=True)"
      ],
      "id": "7cbee07d"
    },
    {
      "cell_type": "markdown",
      "metadata": {
        "id": "37e6c51f"
      },
      "source": [
        "# EVALUATION METRIC"
      ],
      "id": "37e6c51f"
    },
    {
      "cell_type": "code",
      "execution_count": null,
      "metadata": {
        "id": "4944794d",
        "outputId": "1ebd6578-5e24-4521-cd0b-be452a071772"
      },
      "outputs": [
        {
          "data": {
            "text/plain": [
              "0.8909952606635071"
            ]
          },
          "execution_count": 86,
          "metadata": {},
          "output_type": "execute_result"
        }
      ],
      "source": [
        "f1_score(y_test,y_pred)"
      ],
      "id": "4944794d"
    },
    {
      "cell_type": "code",
      "execution_count": null,
      "metadata": {
        "id": "69f3ddad",
        "outputId": "389a8613-9479-4cfa-8ead-2c8b4868fec7"
      },
      "outputs": [
        {
          "data": {
            "text/plain": [
              "<sklearn.metrics._plot.roc_curve.RocCurveDisplay at 0x1cb1877ec10>"
            ]
          },
          "execution_count": 87,
          "metadata": {},
          "output_type": "execute_result"
        },
        {
          "data": {
            "image/png": "[encoded data removed]",
            "text/plain": [
              "<Figure size 432x288 with 1 Axes>"
            ]
          },
          "metadata": {},
          "output_type": "display_data"
        }
      ],
      "source": [
        "plot_roc_curve(logistic_regression, X_test, y_test)"
      ],
      "id": "69f3ddad"
    },
    {
      "cell_type": "markdown",
      "metadata": {
        "id": "9bd20732"
      },
      "source": [
        "##  USING X_TEST"
      ],
      "id": "9bd20732"
    },
    {
      "cell_type": "code",
      "execution_count": null,
      "metadata": {
        "id": "1aced68a",
        "outputId": "0fdc930b-2f12-402c-9efc-eefcda575351"
      },
      "outputs": [
        {
          "data": {
            "text/plain": [
              "0      1\n",
              "1      1\n",
              "2      1\n",
              "3      1\n",
              "4      1\n",
              "      ..\n",
              "302    1\n",
              "303    1\n",
              "304    1\n",
              "305    1\n",
              "306    1\n",
              "Name: loan_status, Length: 307, dtype: int64"
            ]
          },
          "execution_count": 97,
          "metadata": {},
          "output_type": "execute_result"
        }
      ],
      "source": [
        "y_pred = logistic_regression.predict(x_test)\n",
        "df['loan_status'] = pd.DataFrame({'Predicted': y_pred})\n",
        "df['loan_status']"
      ],
      "id": "1aced68a"
    },
    {
      "cell_type": "code",
      "execution_count": null,
      "metadata": {
        "id": "79b83a55",
        "outputId": "75b35f74-f193-48c1-c38d-90c7c75c3156"
      },
      "outputs": [
        {
          "data": {
            "text/plain": [
              "50"
            ]
          },
          "execution_count": 106,
          "metadata": {},
          "output_type": "execute_result"
        }
      ],
      "source": [
        "df['loan_status'].unique()\n",
        "len(df['loan_status'])-df['loan_status'].sum()"
      ],
      "id": "79b83a55"
    },
    {
      "cell_type": "code",
      "execution_count": null,
      "metadata": {
        "id": "bbe92f8e"
      },
      "outputs": [],
      "source": [
        "df['loan_status']"
      ],
      "id": "bbe92f8e"
    },
    {
      "cell_type": "markdown",
      "source": [
        "## **DESICION TREE**"
      ],
      "metadata": {
        "id": "frzeKEyOxirG"
      },
      "id": "frzeKEyOxirG"
    },
    {
      "cell_type": "code",
      "source": [
        "from sklearn.metrics import accuracy_score, roc_auc_score, plot_roc_curve\n",
        "from sklearn.model_selection import cross_val_score \n",
        "from sklearn.tree import DecisionTreeClassifier \n",
        "import numpy as np\n",
        "\n",
        "for depth in [1,2,3,4,5,6,7,8,9,10,20,40,60]:\n",
        "  dt = DecisionTreeClassifier(max_depth=depth) # will tell the DT to not grow past the given threhsold\n",
        "  # Fit dt to the training set\n",
        "  dt.fit(X_train, y_train) # the model is trained\n",
        "  trainAccuracy = accuracy_score(y_train, dt.predict(X_train)) # this is useless information - i am showing to prove a point\n",
        "  dt = DecisionTreeClassifier(max_depth=depth) # a fresh model which is not trained yet\n",
        "  valAccuracy = cross_val_score(dt, X_test, y_test, cv=10) # syntax : cross_val_Score(freshModel,fts, target, cv= 10/5)\n",
        "  print(\"Depth  : \", depth, \" Training Accuracy : \", trainAccuracy, \" Cross val score : \" ,np.mean(valAccuracy))\n"
      ],
      "metadata": {
        "colab": {
          "base_uri": "https://localhost:8080/"
        },
        "id": "DnZ-TRW1xmD8",
        "outputId": "0833f8e2-d941-4ce0-a587-16fd2f7a8019"
      },
      "id": "DnZ-TRW1xmD8",
      "execution_count": 121,
      "outputs": [
        {
          "output_type": "stream",
          "name": "stdout",
          "text": [
            "Depth  :  1  Training Accuracy :  0.8035714285714286  Cross val score :  0.8247252747252748\n",
            "Depth  :  2  Training Accuracy :  0.8112244897959183  Cross val score :  0.8093406593406595\n",
            "Depth  :  3  Training Accuracy :  0.8112244897959183  Cross val score :  0.7252747252747251\n",
            "Depth  :  4  Training Accuracy :  0.8214285714285714  Cross val score :  0.7258241758241758\n",
            "Depth  :  5  Training Accuracy :  0.8443877551020408  Cross val score :  0.7186813186813186\n",
            "Depth  :  6  Training Accuracy :  0.8596938775510204  Cross val score :  0.7043956043956043\n",
            "Depth  :  7  Training Accuracy :  0.8903061224489796  Cross val score :  0.6956043956043956\n",
            "Depth  :  8  Training Accuracy :  0.9132653061224489  Cross val score :  0.6730769230769231\n",
            "Depth  :  9  Training Accuracy :  0.9413265306122449  Cross val score :  0.6807692307692308\n",
            "Depth  :  10  Training Accuracy :  0.9642857142857143  Cross val score :  0.6659340659340659\n",
            "Depth  :  20  Training Accuracy :  1.0  Cross val score :  0.6730769230769231\n",
            "Depth  :  40  Training Accuracy :  1.0  Cross val score :  0.689010989010989\n",
            "Depth  :  60  Training Accuracy :  1.0  Cross val score :  0.6956043956043956\n"
          ]
        }
      ]
    },
    {
      "cell_type": "code",
      "source": [
        "from sklearn.metrics import roc_auc_score \n",
        "dt = DecisionTreeClassifier(max_depth=1) \n",
        "dt.fit(X_train,y_train) \n",
        "print( \"AUROC score: \",roc_auc_score( y_test, dt.predict_proba(X_test)[:, 1]))"
      ],
      "metadata": {
        "colab": {
          "base_uri": "https://localhost:8080/"
        },
        "id": "eKwdP57eyOBS",
        "outputId": "18800771-9820-4bc1-af88-299d649017a5"
      },
      "id": "eKwdP57eyOBS",
      "execution_count": 125,
      "outputs": [
        {
          "output_type": "stream",
          "name": "stdout",
          "text": [
            "AUROC score:  0.6891812865497076\n"
          ]
        }
      ]
    },
    {
      "cell_type": "code",
      "source": [
        "importance = dt.feature_importances_\n",
        "list(zip(importance,['Gender', 'Married', 'Dependents', 'Education', 'Self_Employed',\n",
        "       'ApplicantIncome', 'CoapplicantIncome', 'LoanAmount',\n",
        "       'Loan_Amount_Term', 'Credit_History', 'Property_Area']))"
      ],
      "metadata": {
        "colab": {
          "base_uri": "https://localhost:8080/"
        },
        "id": "WeMEGDARyH3o",
        "outputId": "8813329e-24fe-40b4-a68c-97dd348e83d6"
      },
      "id": "WeMEGDARyH3o",
      "execution_count": 132,
      "outputs": [
        {
          "output_type": "execute_result",
          "data": {
            "text/plain": [
              "[(0.0, 'Gender'),\n",
              " (0.0, 'Married'),\n",
              " (0.0, 'Dependents'),\n",
              " (0.0, 'Education'),\n",
              " (0.0, 'Self_Employed'),\n",
              " (0.0, 'ApplicantIncome'),\n",
              " (0.0, 'CoapplicantIncome'),\n",
              " (0.0, 'LoanAmount'),\n",
              " (0.0, 'Loan_Amount_Term'),\n",
              " (1.0, 'Credit_History'),\n",
              " (0.0, 'Property_Area')]"
            ]
          },
          "metadata": {},
          "execution_count": 132
        }
      ]
    },
    {
      "cell_type": "code",
      "source": [
        ""
      ],
      "metadata": {
        "id": "rk5zBk0U2e1R"
      },
      "id": "rk5zBk0U2e1R",
      "execution_count": null,
      "outputs": []
    },
    {
      "cell_type": "markdown",
      "source": [
        "## **XG-BOOST**"
      ],
      "metadata": {
        "id": "-r_D15z62Z5v"
      },
      "id": "-r_D15z62Z5v"
    },
    {
      "cell_type": "code",
      "source": [
        "import xgboost as xgb\n",
        "from sklearn.model_selection import cross_val_score \n",
        "import numpy as np \n",
        "for lr in [0.01,0.02,0.03,0.04,0.05,0.1,0.11,0.12,0.13,0.14,0.15,0.2,0.5,0.7,1]: \n",
        "  model = xgb.XGBClassifier(learning_rate = lr, n_estimators=100, verbosity = 0) # initialise the model model.fit(X_smt,y_smt) #train the model \n",
        "  print(\"Learning rate : \", lr,\" Cross-Val score : \", np.mean(cross_val_score(model, X_test, y_test, cv=10)))"
      ],
      "metadata": {
        "colab": {
          "base_uri": "https://localhost:8080/"
        },
        "id": "z45IcSZv2dpV",
        "outputId": "9ecb0fc4-0b22-4f92-db36-bc3627f195b9"
      },
      "id": "z45IcSZv2dpV",
      "execution_count": 127,
      "outputs": [
        {
          "output_type": "stream",
          "name": "stdout",
          "text": [
            "Learning rate :  0.01  Cross-Val score :  0.8170329670329671\n",
            "Learning rate :  0.02  Cross-Val score :  0.8170329670329671\n",
            "Learning rate :  0.03  Cross-Val score :  0.8021978021978023\n",
            "Learning rate :  0.04  Cross-Val score :  0.8021978021978023\n",
            "Learning rate :  0.05  Cross-Val score :  0.7950549450549451\n",
            "Learning rate :  0.1  Cross-Val score :  0.7714285714285714\n",
            "Learning rate :  0.11  Cross-Val score :  0.7791208791208791\n",
            "Learning rate :  0.12  Cross-Val score :  0.7785714285714286\n",
            "Learning rate :  0.13  Cross-Val score :  0.7785714285714286\n",
            "Learning rate :  0.14  Cross-Val score :  0.7708791208791208\n",
            "Learning rate :  0.15  Cross-Val score :  0.7785714285714286\n",
            "Learning rate :  0.2  Cross-Val score :  0.7483516483516484\n",
            "Learning rate :  0.5  Cross-Val score :  0.732967032967033\n",
            "Learning rate :  0.7  Cross-Val score :  0.7252747252747254\n",
            "Learning rate :  1  Cross-Val score :  0.7098901098901099\n"
          ]
        }
      ]
    },
    {
      "cell_type": "code",
      "source": [
        "from sklearn.metrics import plot_roc_curve, roc_curve, roc_auc_score, confusion_matrix, f1_score\n",
        "model = xgb.XGBClassifier(learning_rate = 0.01, n_estimators=100, verbosity = 0) # initialise the model \n",
        "model.fit(X_train,y_train)\n",
        "print( \"AUROC score: \",roc_auc_score( y_test, model.predict_proba(X_test)[:, 1]))"
      ],
      "metadata": {
        "colab": {
          "base_uri": "https://localhost:8080/"
        },
        "id": "zwifpZRuyNl4",
        "outputId": "0aa16bac-bfb9-49a3-9b9e-edacf4e78237"
      },
      "id": "zwifpZRuyNl4",
      "execution_count": 137,
      "outputs": [
        {
          "output_type": "stream",
          "name": "stdout",
          "text": [
            "AUROC score:  0.6282163742690059\n"
          ]
        }
      ]
    },
    {
      "cell_type": "code",
      "source": [
        "importance = model.feature_importances_\n",
        "list(zip(importance,['Gender', 'Married', 'Dependents', 'Education', 'Self_Employed',\n",
        "       'ApplicantIncome', 'CoapplicantIncome', 'LoanAmount',\n",
        "       'Loan_Amount_Term', 'Credit_History', 'Property_Area']))"
      ],
      "metadata": {
        "colab": {
          "base_uri": "https://localhost:8080/"
        },
        "id": "HKnE-NDA3XoP",
        "outputId": "dc03a069-ea9c-4901-abfd-7bb7108573b1"
      },
      "id": "HKnE-NDA3XoP",
      "execution_count": 133,
      "outputs": [
        {
          "output_type": "execute_result",
          "data": {
            "text/plain": [
              "[(0.0, 'Gender'),\n",
              " (0.046604738, 'Married'),\n",
              " (0.041933097, 'Dependents'),\n",
              " (0.0, 'Education'),\n",
              " (0.045464393, 'Self_Employed'),\n",
              " (0.039233424, 'ApplicantIncome'),\n",
              " (0.005004513, 'CoapplicantIncome'),\n",
              " (0.03007323, 'LoanAmount'),\n",
              " (0.03196546, 'Loan_Amount_Term'),\n",
              " (0.75972116, 'Credit_History'),\n",
              " (0.0, 'Property_Area')]"
            ]
          },
          "metadata": {},
          "execution_count": 133
        }
      ]
    },
    {
      "cell_type": "markdown",
      "source": [
        "## **RANDOM FOREST**"
      ],
      "metadata": {
        "id": "GIvLM53f4GRA"
      },
      "id": "GIvLM53f4GRA"
    },
    {
      "cell_type": "code",
      "source": [
        "from sklearn.ensemble import RandomForestClassifier \n",
        "classifier = RandomForestClassifier(n_estimators=100,criterion=\"entropy\") \n",
        "classifier.fit(X_train,y_train)\n",
        "y_pred = classifier.predict(X_test)\n",
        "print( \"AUROC score: \",roc_auc_score( y_test, classifier.predict_proba(X_test)[:, 1]))"
      ],
      "metadata": {
        "colab": {
          "base_uri": "https://localhost:8080/"
        },
        "id": "kuPllSp83y4o",
        "outputId": "29abd3e3-f2db-4c0d-d486-94d9478a5ab4"
      },
      "id": "kuPllSp83y4o",
      "execution_count": 135,
      "outputs": [
        {
          "output_type": "stream",
          "name": "stdout",
          "text": [
            "AUROC score:  0.7179824561403508\n"
          ]
        }
      ]
    },
    {
      "cell_type": "code",
      "source": [
        "importance = classifier.feature_importances_\n",
        "list(zip(importance,['Gender', 'Married', 'Dependents', 'Education', 'Self_Employed',\n",
        "       'ApplicantIncome', 'CoapplicantIncome', 'LoanAmount',\n",
        "       'Loan_Amount_Term', 'Credit_History', 'Property_Area']))"
      ],
      "metadata": {
        "colab": {
          "base_uri": "https://localhost:8080/"
        },
        "id": "XPzDMdZx5VDP",
        "outputId": "cb938792-397a-4ef8-93b4-ad82cfe82766"
      },
      "id": "XPzDMdZx5VDP",
      "execution_count": 139,
      "outputs": [
        {
          "output_type": "execute_result",
          "data": {
            "text/plain": [
              "[(0.02094402895799364, 'Gender'),\n",
              " (0.026935416030537025, 'Married'),\n",
              " (0.059560766502810183, 'Dependents'),\n",
              " (0.02217587289533525, 'Education'),\n",
              " (0.02241031143578146, 'Self_Employed'),\n",
              " (0.20182327311564968, 'ApplicantIncome'),\n",
              " (0.12481042625214882, 'CoapplicantIncome'),\n",
              " (0.2046406348821284, 'LoanAmount'),\n",
              " (0.0500994435274241, 'Loan_Amount_Term'),\n",
              " (0.21754263164623372, 'Credit_History'),\n",
              " (0.049057194753957825, 'Property_Area')]"
            ]
          },
          "metadata": {},
          "execution_count": 139
        }
      ]
    },
    {
      "cell_type": "markdown",
      "metadata": {
        "id": "66cc45e9"
      },
      "source": [
        "# CONCLUSION"
      ],
      "id": "66cc45e9"
    },
    {
      "cell_type": "markdown",
      "source": [
        "From all our models, we came to know credit history is the top most important feature.\n",
        "  \n",
        "    The Logistic regression AUROC score is 0.75\n",
        "    The Desicion Tree AUROC score is 0.68\n",
        "    The XG-BOOST model AUROC score is 0.62\n",
        "    The Random forest AUROC score is 0.71\n",
        "\n",
        "\n",
        "From above AUROC scores we came to know that Logistic Regression gives us good score compared to others.\n",
        "\n",
        "The loan is mostly approved for the person who have good credit history,graduated,married,non-selfemployed one and the property area in semiurban.\n",
        "\n",
        "From our observation the above mentioned people can easily get loan from the bank."
      ],
      "metadata": {
        "id": "TUsh7nk0tJyh"
      },
      "id": "TUsh7nk0tJyh"
    },
    {
      "cell_type": "markdown",
      "metadata": {
        "id": "TabmE-iDVeK7"
      },
      "source": [
        "                          --------------- THE END ---------------"
      ],
      "id": "TabmE-iDVeK7"
    },
    {
      "cell_type": "code",
      "execution_count": null,
      "metadata": {
        "id": "9a6d2f9d"
      },
      "outputs": [],
      "source": [
        ""
      ],
      "id": "9a6d2f9d"
    }
  ],
  "metadata": {
    "colab": {
      "collapsed_sections": [],
      "name": "loan_status_predict.ipynb",
      "provenance": [],
      "include_colab_link": true
    },
    "kernelspec": {
      "display_name": "Python 3 (ipykernel)",
      "language": "python",
      "name": "python3"
    },
    "language_info": {
      "codemirror_mode": {
        "name": "ipython",
        "version": 3
      },
      "file_extension": ".py",
      "mimetype": "text/x-python",
      "name": "python",
      "nbconvert_exporter": "python",
      "pygments_lexer": "ipython3",
      "version": "3.9.7"
    }
  },
  "nbformat": 4,
  "nbformat_minor": 5
}